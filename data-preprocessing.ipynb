{
  "cells": [
    {
      "cell_type": "markdown",
      "metadata": {
        "id": "CtZ3jITZfXC1"
      },
      "source": [
        "# Introducción"
      ]
    },
    {
      "cell_type": "markdown",
      "metadata": {
        "id": "mSWGMywofzWk"
      },
      "source": [
        "El dataset presentado es un listado de postulantes al Concurso de Admisión de la Universidad Nacional de Ingeniería desde 2021-1 al 2024-1.  \n",
        "Este dataset está caracterizado por:\n",
        "\n",
        "* Datos del postulante: Id anonimizado, colegio, lugar del colegio (departamento, provincia, distrito), año de egreso de colegio, año de nacimiento, sexo, lugar del domicilio (departamento, provincia, distrito), lugar de nacimiento (departamento, provincia, distrito)\n",
        "* Datos de la postulación: Especialidad, año, ciclo, calificación, ingreso y modalidad de ingreso.\n",
        "\n"
      ]
    },
    {
      "cell_type": "markdown",
      "metadata": {
        "id": "XqZT7rnskr9l"
      },
      "source": [
        "Funte: [Postulantes al Concurso de Admisión de la Universidad Nacional de Ingeniería - UNI (datosabiertos.gob.pe)\n",
        "](https://www.datosabiertos.gob.pe/dataset/postulantes-al-concurso-de-admisión-de-la-universidad-nacional-de-ingeniería-uni)"
      ]
    },
    {
      "cell_type": "markdown",
      "metadata": {
        "id": "Mip3iNBMg1HA"
      },
      "source": [
        "La finalidad de este Notebook es preprocesar los datos para un posterior análisis"
      ]
    },
    {
      "cell_type": "markdown",
      "metadata": {
        "id": "OalG-NHZVciV"
      },
      "source": [
        "# Carga y exploración de datos"
      ]
    },
    {
      "cell_type": "code",
      "execution_count": 1,
      "metadata": {
        "id": "zjGJsbyO-4pP"
      },
      "outputs": [],
      "source": [
        "import pandas as pd\n",
        "import numpy as np"
      ]
    },
    {
      "cell_type": "code",
      "execution_count": 7,
      "metadata": {},
      "outputs": [
        {
          "data": {
            "text/plain": [
              "'c:\\\\Users\\\\Angel\\\\Desktop\\\\Proyectos Git\\\\uni-admission-analysis'"
            ]
          },
          "execution_count": 7,
          "metadata": {},
          "output_type": "execute_result"
        }
      ],
      "source": [
        "%pwd"
      ]
    },
    {
      "cell_type": "code",
      "execution_count": 8,
      "metadata": {
        "colab": {
          "base_uri": "https://localhost:8080/"
        },
        "id": "K_L8v7-A-7IQ",
        "outputId": "1a4ee19f-3169-4b2a-ab9d-5e3fee5f42c9"
      },
      "outputs": [
        {
          "name": "stdout",
          "output_type": "stream",
          "text": [
            "<class 'pandas.core.frame.DataFrame'>\n",
            "RangeIndex: 42516 entries, 0 to 42515\n",
            "Data columns (total 22 columns):\n",
            " #   Column               Non-Null Count  Dtype  \n",
            "---  ------               --------------  -----  \n",
            " 0   IDHASH               42516 non-null  object \n",
            " 1   COLEGIO              42516 non-null  object \n",
            " 2   COLEGIO_DEPA         42290 non-null  object \n",
            " 3   COLEGIO_PROV         42288 non-null  object \n",
            " 4   COLEGIO_DIST         42288 non-null  object \n",
            " 5   COLEGIO_PAIS         18942 non-null  object \n",
            " 6   COLEGIO_ANIO_EGRESO  42516 non-null  int64  \n",
            " 7   ESPECIALIDAD         42461 non-null  object \n",
            " 8   ANIO_POSTULA         42516 non-null  int64  \n",
            " 9   CICLO_POSTULA        42516 non-null  int64  \n",
            " 10  DOMICILIO_DEPA       42516 non-null  object \n",
            " 11  DOMICILIO_PROV       42516 non-null  object \n",
            " 12  DOMICILIO_DIST       42516 non-null  object \n",
            " 13  ANIO_NACIMIENTO      42516 non-null  int64  \n",
            " 14  NACIMIENTO_PAIS      42516 non-null  object \n",
            " 15  NACIMIENTO_DEPA      42314 non-null  object \n",
            " 16  NACIMIENTO_PROV      42314 non-null  object \n",
            " 17  NACIMIENTO_DIST      42313 non-null  object \n",
            " 18  SEXO                 42516 non-null  object \n",
            " 19  CALIF_FINAL          42492 non-null  float64\n",
            " 20  INGRESO              42516 non-null  object \n",
            " 21  MODALIDAD            42516 non-null  object \n",
            "dtypes: float64(1), int64(4), object(17)\n",
            "memory usage: 7.1+ MB\n"
          ]
        }
      ],
      "source": [
        "# Datos obtenidos de de datosabiertos.gob.pe\n",
        "path = r'datasets/admission-data-raw.csv'\n",
        "df = pd.read_csv(path)\n",
        "df.info()"
      ]
    },
    {
      "cell_type": "markdown",
      "metadata": {
        "id": "gkT_hz11jjCJ"
      },
      "source": [
        "Los tipos de datos coinciden con lo que representa cada columna"
      ]
    },
    {
      "cell_type": "code",
      "execution_count": 9,
      "metadata": {
        "colab": {
          "base_uri": "https://localhost:8080/",
          "height": 349
        },
        "id": "VYXCsfUsVnC8",
        "outputId": "72bccedc-49e3-43b2-8d73-58e4c64f8789"
      },
      "outputs": [
        {
          "data": {
            "text/html": [
              "<div>\n",
              "<style scoped>\n",
              "    .dataframe tbody tr th:only-of-type {\n",
              "        vertical-align: middle;\n",
              "    }\n",
              "\n",
              "    .dataframe tbody tr th {\n",
              "        vertical-align: top;\n",
              "    }\n",
              "\n",
              "    .dataframe thead th {\n",
              "        text-align: right;\n",
              "    }\n",
              "</style>\n",
              "<table border=\"1\" class=\"dataframe\">\n",
              "  <thead>\n",
              "    <tr style=\"text-align: right;\">\n",
              "      <th></th>\n",
              "      <th>IDHASH</th>\n",
              "      <th>COLEGIO</th>\n",
              "      <th>COLEGIO_DEPA</th>\n",
              "      <th>COLEGIO_PROV</th>\n",
              "      <th>COLEGIO_DIST</th>\n",
              "      <th>COLEGIO_PAIS</th>\n",
              "      <th>COLEGIO_ANIO_EGRESO</th>\n",
              "      <th>ESPECIALIDAD</th>\n",
              "      <th>ANIO_POSTULA</th>\n",
              "      <th>CICLO_POSTULA</th>\n",
              "      <th>...</th>\n",
              "      <th>DOMICILIO_DIST</th>\n",
              "      <th>ANIO_NACIMIENTO</th>\n",
              "      <th>NACIMIENTO_PAIS</th>\n",
              "      <th>NACIMIENTO_DEPA</th>\n",
              "      <th>NACIMIENTO_PROV</th>\n",
              "      <th>NACIMIENTO_DIST</th>\n",
              "      <th>SEXO</th>\n",
              "      <th>CALIF_FINAL</th>\n",
              "      <th>INGRESO</th>\n",
              "      <th>MODALIDAD</th>\n",
              "    </tr>\n",
              "  </thead>\n",
              "  <tbody>\n",
              "    <tr>\n",
              "      <th>11609</th>\n",
              "      <td>D92DDC242FE70C6C76D6B3757F3374FC3171AECF6C52C3...</td>\n",
              "      <td>MARIA INMACULADA CONCEPCION</td>\n",
              "      <td>LIMA</td>\n",
              "      <td>LIMA</td>\n",
              "      <td>VILLA EL SALVADOR</td>\n",
              "      <td>NaN</td>\n",
              "      <td>2022</td>\n",
              "      <td>INGENIERÍA MECATRÓNICA</td>\n",
              "      <td>2023</td>\n",
              "      <td>2</td>\n",
              "      <td>...</td>\n",
              "      <td>LIMA</td>\n",
              "      <td>2006</td>\n",
              "      <td>PERÚ</td>\n",
              "      <td>LIMA</td>\n",
              "      <td>LIMA</td>\n",
              "      <td>VILLA EL SALVADOR</td>\n",
              "      <td>MASCULINO</td>\n",
              "      <td>4.410</td>\n",
              "      <td>NO</td>\n",
              "      <td>ORDINARIO</td>\n",
              "    </tr>\n",
              "    <tr>\n",
              "      <th>18910</th>\n",
              "      <td>63DC71B9E94A83C51DC18589558B65476C0F0ECAC26AFC...</td>\n",
              "      <td>CENTER</td>\n",
              "      <td>AYACUCHO</td>\n",
              "      <td>HUAMANGA</td>\n",
              "      <td>AYACUCHO</td>\n",
              "      <td>PERÚ</td>\n",
              "      <td>2020</td>\n",
              "      <td>INGENIERÍA CIVIL</td>\n",
              "      <td>2022</td>\n",
              "      <td>1</td>\n",
              "      <td>...</td>\n",
              "      <td>AYACUCHO</td>\n",
              "      <td>2004</td>\n",
              "      <td>PERÚ</td>\n",
              "      <td>AYACUCHO</td>\n",
              "      <td>VÍCTOR FAJARDO</td>\n",
              "      <td>SARHUA</td>\n",
              "      <td>MASCULINO</td>\n",
              "      <td>13.250</td>\n",
              "      <td>SI</td>\n",
              "      <td>ORDINARIO</td>\n",
              "    </tr>\n",
              "    <tr>\n",
              "      <th>1565</th>\n",
              "      <td>4BD17FCD74BEF894145F9B1D36343EB971E01D1134E7BC...</td>\n",
              "      <td>COLEGIO MAYOR SISTEMA SAN MARCOS</td>\n",
              "      <td>LIMA</td>\n",
              "      <td>LIMA</td>\n",
              "      <td>LOS OLIVOS</td>\n",
              "      <td>PERÚ</td>\n",
              "      <td>2020</td>\n",
              "      <td>INGENIERÍA MECÁNICA</td>\n",
              "      <td>2022</td>\n",
              "      <td>2</td>\n",
              "      <td>...</td>\n",
              "      <td>LOS OLIVOS</td>\n",
              "      <td>2004</td>\n",
              "      <td>PERÚ</td>\n",
              "      <td>LIMA</td>\n",
              "      <td>LIMA</td>\n",
              "      <td>SAN MARTÍN DE PORRES</td>\n",
              "      <td>MASCULINO</td>\n",
              "      <td>1.005</td>\n",
              "      <td>NO</td>\n",
              "      <td>ORDINARIO</td>\n",
              "    </tr>\n",
              "  </tbody>\n",
              "</table>\n",
              "<p>3 rows × 22 columns</p>\n",
              "</div>"
            ],
            "text/plain": [
              "                                                  IDHASH  \\\n",
              "11609  D92DDC242FE70C6C76D6B3757F3374FC3171AECF6C52C3...   \n",
              "18910  63DC71B9E94A83C51DC18589558B65476C0F0ECAC26AFC...   \n",
              "1565   4BD17FCD74BEF894145F9B1D36343EB971E01D1134E7BC...   \n",
              "\n",
              "                                COLEGIO COLEGIO_DEPA COLEGIO_PROV  \\\n",
              "11609       MARIA INMACULADA CONCEPCION         LIMA         LIMA   \n",
              "18910                            CENTER     AYACUCHO     HUAMANGA   \n",
              "1565   COLEGIO MAYOR SISTEMA SAN MARCOS         LIMA         LIMA   \n",
              "\n",
              "            COLEGIO_DIST COLEGIO_PAIS  COLEGIO_ANIO_EGRESO  \\\n",
              "11609  VILLA EL SALVADOR          NaN                 2022   \n",
              "18910           AYACUCHO         PERÚ                 2020   \n",
              "1565          LOS OLIVOS         PERÚ                 2020   \n",
              "\n",
              "                 ESPECIALIDAD  ANIO_POSTULA  CICLO_POSTULA  ...  \\\n",
              "11609  INGENIERÍA MECATRÓNICA          2023              2  ...   \n",
              "18910        INGENIERÍA CIVIL          2022              1  ...   \n",
              "1565      INGENIERÍA MECÁNICA          2022              2  ...   \n",
              "\n",
              "      DOMICILIO_DIST ANIO_NACIMIENTO NACIMIENTO_PAIS  NACIMIENTO_DEPA  \\\n",
              "11609           LIMA            2006            PERÚ             LIMA   \n",
              "18910       AYACUCHO            2004            PERÚ         AYACUCHO   \n",
              "1565      LOS OLIVOS            2004            PERÚ             LIMA   \n",
              "\n",
              "      NACIMIENTO_PROV       NACIMIENTO_DIST       SEXO CALIF_FINAL INGRESO  \\\n",
              "11609            LIMA     VILLA EL SALVADOR  MASCULINO       4.410      NO   \n",
              "18910  VÍCTOR FAJARDO                SARHUA  MASCULINO      13.250      SI   \n",
              "1565             LIMA  SAN MARTÍN DE PORRES  MASCULINO       1.005      NO   \n",
              "\n",
              "       MODALIDAD  \n",
              "11609  ORDINARIO  \n",
              "18910  ORDINARIO  \n",
              "1565   ORDINARIO  \n",
              "\n",
              "[3 rows x 22 columns]"
            ]
          },
          "execution_count": 9,
          "metadata": {},
          "output_type": "execute_result"
        }
      ],
      "source": [
        "df.sample(3)"
      ]
    },
    {
      "cell_type": "code",
      "execution_count": 10,
      "metadata": {
        "colab": {
          "base_uri": "https://localhost:8080/",
          "height": 206
        },
        "id": "pFxRCMAuUsGf",
        "outputId": "68412059-0df4-4312-87ea-f2402ec994ad"
      },
      "outputs": [
        {
          "data": {
            "text/html": [
              "<div>\n",
              "<style scoped>\n",
              "    .dataframe tbody tr th:only-of-type {\n",
              "        vertical-align: middle;\n",
              "    }\n",
              "\n",
              "    .dataframe tbody tr th {\n",
              "        vertical-align: top;\n",
              "    }\n",
              "\n",
              "    .dataframe thead th {\n",
              "        text-align: right;\n",
              "    }\n",
              "</style>\n",
              "<table border=\"1\" class=\"dataframe\">\n",
              "  <thead>\n",
              "    <tr style=\"text-align: right;\">\n",
              "      <th></th>\n",
              "      <th>count</th>\n",
              "      <th>mean</th>\n",
              "      <th>std</th>\n",
              "      <th>min</th>\n",
              "      <th>25%</th>\n",
              "      <th>50%</th>\n",
              "      <th>75%</th>\n",
              "      <th>max</th>\n",
              "    </tr>\n",
              "  </thead>\n",
              "  <tbody>\n",
              "    <tr>\n",
              "      <th>COLEGIO_ANIO_EGRESO</th>\n",
              "      <td>42516.0</td>\n",
              "      <td>2020.043301</td>\n",
              "      <td>2.853733</td>\n",
              "      <td>1970.0</td>\n",
              "      <td>2019.000</td>\n",
              "      <td>2020.000</td>\n",
              "      <td>2022.000</td>\n",
              "      <td>2025.0</td>\n",
              "    </tr>\n",
              "    <tr>\n",
              "      <th>ANIO_POSTULA</th>\n",
              "      <td>42516.0</td>\n",
              "      <td>2022.564352</td>\n",
              "      <td>1.078730</td>\n",
              "      <td>2021.0</td>\n",
              "      <td>2022.000</td>\n",
              "      <td>2023.000</td>\n",
              "      <td>2023.000</td>\n",
              "      <td>2024.0</td>\n",
              "    </tr>\n",
              "    <tr>\n",
              "      <th>CICLO_POSTULA</th>\n",
              "      <td>42516.0</td>\n",
              "      <td>1.313082</td>\n",
              "      <td>0.463753</td>\n",
              "      <td>1.0</td>\n",
              "      <td>1.000</td>\n",
              "      <td>1.000</td>\n",
              "      <td>2.000</td>\n",
              "      <td>2.0</td>\n",
              "    </tr>\n",
              "    <tr>\n",
              "      <th>ANIO_NACIMIENTO</th>\n",
              "      <td>42516.0</td>\n",
              "      <td>2003.665138</td>\n",
              "      <td>2.858881</td>\n",
              "      <td>1948.0</td>\n",
              "      <td>2003.000</td>\n",
              "      <td>2004.000</td>\n",
              "      <td>2005.000</td>\n",
              "      <td>2008.0</td>\n",
              "    </tr>\n",
              "    <tr>\n",
              "      <th>CALIF_FINAL</th>\n",
              "      <td>42492.0</td>\n",
              "      <td>7.640941</td>\n",
              "      <td>3.561482</td>\n",
              "      <td>0.0</td>\n",
              "      <td>4.894</td>\n",
              "      <td>7.288</td>\n",
              "      <td>10.313</td>\n",
              "      <td>20.0</td>\n",
              "    </tr>\n",
              "  </tbody>\n",
              "</table>\n",
              "</div>"
            ],
            "text/plain": [
              "                       count         mean       std     min       25%  \\\n",
              "COLEGIO_ANIO_EGRESO  42516.0  2020.043301  2.853733  1970.0  2019.000   \n",
              "ANIO_POSTULA         42516.0  2022.564352  1.078730  2021.0  2022.000   \n",
              "CICLO_POSTULA        42516.0     1.313082  0.463753     1.0     1.000   \n",
              "ANIO_NACIMIENTO      42516.0  2003.665138  2.858881  1948.0  2003.000   \n",
              "CALIF_FINAL          42492.0     7.640941  3.561482     0.0     4.894   \n",
              "\n",
              "                          50%       75%     max  \n",
              "COLEGIO_ANIO_EGRESO  2020.000  2022.000  2025.0  \n",
              "ANIO_POSTULA         2023.000  2023.000  2024.0  \n",
              "CICLO_POSTULA           1.000     2.000     2.0  \n",
              "ANIO_NACIMIENTO      2004.000  2005.000  2008.0  \n",
              "CALIF_FINAL             7.288    10.313    20.0  "
            ]
          },
          "execution_count": 10,
          "metadata": {},
          "output_type": "execute_result"
        }
      ],
      "source": [
        "# Valores numericos\n",
        "df.describe().T"
      ]
    },
    {
      "cell_type": "code",
      "execution_count": 11,
      "metadata": {
        "colab": {
          "base_uri": "https://localhost:8080/",
          "height": 582
        },
        "id": "_P_JxZ65UxJ4",
        "outputId": "71b459ff-6413-416d-ed9f-b74e0c9a4599"
      },
      "outputs": [
        {
          "data": {
            "text/html": [
              "<div>\n",
              "<style scoped>\n",
              "    .dataframe tbody tr th:only-of-type {\n",
              "        vertical-align: middle;\n",
              "    }\n",
              "\n",
              "    .dataframe tbody tr th {\n",
              "        vertical-align: top;\n",
              "    }\n",
              "\n",
              "    .dataframe thead th {\n",
              "        text-align: right;\n",
              "    }\n",
              "</style>\n",
              "<table border=\"1\" class=\"dataframe\">\n",
              "  <thead>\n",
              "    <tr style=\"text-align: right;\">\n",
              "      <th></th>\n",
              "      <th>count</th>\n",
              "      <th>unique</th>\n",
              "      <th>top</th>\n",
              "      <th>freq</th>\n",
              "    </tr>\n",
              "  </thead>\n",
              "  <tbody>\n",
              "    <tr>\n",
              "      <th>IDHASH</th>\n",
              "      <td>42516</td>\n",
              "      <td>26177</td>\n",
              "      <td>8C9FB312AA48B4E42D5638C8A437E0FC26D7C470861905...</td>\n",
              "      <td>7</td>\n",
              "    </tr>\n",
              "    <tr>\n",
              "      <th>COLEGIO</th>\n",
              "      <td>42516</td>\n",
              "      <td>3970</td>\n",
              "      <td>TRILCE LOS OLIVOS</td>\n",
              "      <td>581</td>\n",
              "    </tr>\n",
              "    <tr>\n",
              "      <th>COLEGIO_DEPA</th>\n",
              "      <td>42290</td>\n",
              "      <td>38</td>\n",
              "      <td>LIMA</td>\n",
              "      <td>31968</td>\n",
              "    </tr>\n",
              "    <tr>\n",
              "      <th>COLEGIO_PROV</th>\n",
              "      <td>42288</td>\n",
              "      <td>230</td>\n",
              "      <td>LIMA</td>\n",
              "      <td>30441</td>\n",
              "    </tr>\n",
              "    <tr>\n",
              "      <th>COLEGIO_DIST</th>\n",
              "      <td>42288</td>\n",
              "      <td>818</td>\n",
              "      <td>SAN JUAN DE LURIGANCHO</td>\n",
              "      <td>3802</td>\n",
              "    </tr>\n",
              "    <tr>\n",
              "      <th>COLEGIO_PAIS</th>\n",
              "      <td>18942</td>\n",
              "      <td>8</td>\n",
              "      <td>PERÚ</td>\n",
              "      <td>18926</td>\n",
              "    </tr>\n",
              "    <tr>\n",
              "      <th>ESPECIALIDAD</th>\n",
              "      <td>42461</td>\n",
              "      <td>30</td>\n",
              "      <td>INGENIERÍA CIVIL</td>\n",
              "      <td>7608</td>\n",
              "    </tr>\n",
              "    <tr>\n",
              "      <th>DOMICILIO_DEPA</th>\n",
              "      <td>42516</td>\n",
              "      <td>30</td>\n",
              "      <td>LIMA</td>\n",
              "      <td>34086</td>\n",
              "    </tr>\n",
              "    <tr>\n",
              "      <th>DOMICILIO_PROV</th>\n",
              "      <td>42516</td>\n",
              "      <td>208</td>\n",
              "      <td>LIMA</td>\n",
              "      <td>32753</td>\n",
              "    </tr>\n",
              "    <tr>\n",
              "      <th>DOMICILIO_DIST</th>\n",
              "      <td>42516</td>\n",
              "      <td>769</td>\n",
              "      <td>LIMA</td>\n",
              "      <td>5245</td>\n",
              "    </tr>\n",
              "    <tr>\n",
              "      <th>NACIMIENTO_PAIS</th>\n",
              "      <td>42516</td>\n",
              "      <td>22</td>\n",
              "      <td>PERÚ</td>\n",
              "      <td>42285</td>\n",
              "    </tr>\n",
              "    <tr>\n",
              "      <th>NACIMIENTO_DEPA</th>\n",
              "      <td>42314</td>\n",
              "      <td>34</td>\n",
              "      <td>LIMA</td>\n",
              "      <td>28706</td>\n",
              "    </tr>\n",
              "    <tr>\n",
              "      <th>NACIMIENTO_PROV</th>\n",
              "      <td>42314</td>\n",
              "      <td>227</td>\n",
              "      <td>LIMA</td>\n",
              "      <td>27468</td>\n",
              "    </tr>\n",
              "    <tr>\n",
              "      <th>NACIMIENTO_DIST</th>\n",
              "      <td>42313</td>\n",
              "      <td>955</td>\n",
              "      <td>LIMA</td>\n",
              "      <td>9032</td>\n",
              "    </tr>\n",
              "    <tr>\n",
              "      <th>SEXO</th>\n",
              "      <td>42516</td>\n",
              "      <td>2</td>\n",
              "      <td>MASCULINO</td>\n",
              "      <td>32419</td>\n",
              "    </tr>\n",
              "    <tr>\n",
              "      <th>INGRESO</th>\n",
              "      <td>42516</td>\n",
              "      <td>2</td>\n",
              "      <td>NO</td>\n",
              "      <td>35535</td>\n",
              "    </tr>\n",
              "    <tr>\n",
              "      <th>MODALIDAD</th>\n",
              "      <td>42516</td>\n",
              "      <td>45</td>\n",
              "      <td>ORDINARIO</td>\n",
              "      <td>24054</td>\n",
              "    </tr>\n",
              "  </tbody>\n",
              "</table>\n",
              "</div>"
            ],
            "text/plain": [
              "                 count unique  \\\n",
              "IDHASH           42516  26177   \n",
              "COLEGIO          42516   3970   \n",
              "COLEGIO_DEPA     42290     38   \n",
              "COLEGIO_PROV     42288    230   \n",
              "COLEGIO_DIST     42288    818   \n",
              "COLEGIO_PAIS     18942      8   \n",
              "ESPECIALIDAD     42461     30   \n",
              "DOMICILIO_DEPA   42516     30   \n",
              "DOMICILIO_PROV   42516    208   \n",
              "DOMICILIO_DIST   42516    769   \n",
              "NACIMIENTO_PAIS  42516     22   \n",
              "NACIMIENTO_DEPA  42314     34   \n",
              "NACIMIENTO_PROV  42314    227   \n",
              "NACIMIENTO_DIST  42313    955   \n",
              "SEXO             42516      2   \n",
              "INGRESO          42516      2   \n",
              "MODALIDAD        42516     45   \n",
              "\n",
              "                                                               top   freq  \n",
              "IDHASH           8C9FB312AA48B4E42D5638C8A437E0FC26D7C470861905...      7  \n",
              "COLEGIO                                          TRILCE LOS OLIVOS    581  \n",
              "COLEGIO_DEPA                                                  LIMA  31968  \n",
              "COLEGIO_PROV                                                  LIMA  30441  \n",
              "COLEGIO_DIST                                SAN JUAN DE LURIGANCHO   3802  \n",
              "COLEGIO_PAIS                                                  PERÚ  18926  \n",
              "ESPECIALIDAD                                      INGENIERÍA CIVIL   7608  \n",
              "DOMICILIO_DEPA                                                LIMA  34086  \n",
              "DOMICILIO_PROV                                                LIMA  32753  \n",
              "DOMICILIO_DIST                                                LIMA   5245  \n",
              "NACIMIENTO_PAIS                                               PERÚ  42285  \n",
              "NACIMIENTO_DEPA                                               LIMA  28706  \n",
              "NACIMIENTO_PROV                                               LIMA  27468  \n",
              "NACIMIENTO_DIST                                               LIMA   9032  \n",
              "SEXO                                                     MASCULINO  32419  \n",
              "INGRESO                                                         NO  35535  \n",
              "MODALIDAD                                                ORDINARIO  24054  "
            ]
          },
          "execution_count": 11,
          "metadata": {},
          "output_type": "execute_result"
        }
      ],
      "source": [
        "# Valores no numericos\n",
        "df.describe(include='object').T"
      ]
    },
    {
      "cell_type": "markdown",
      "metadata": {
        "id": "Xqd0Nk4RU4F4"
      },
      "source": [
        "Que el total de valores unicos para el IDHASH sea poco mas de la mitad del total, muestra que una gran parte a postulado dos o más veces"
      ]
    },
    {
      "cell_type": "markdown",
      "metadata": {
        "id": "EpnqdDgaUjFz"
      },
      "source": [
        "# Procesamiento y limpieza de datos"
      ]
    },
    {
      "cell_type": "code",
      "execution_count": 13,
      "metadata": {
        "colab": {
          "base_uri": "https://localhost:8080/",
          "height": 773
        },
        "id": "t8r2INK2BCcB",
        "outputId": "3036e62b-5527-49fd-d507-ac8b492a3875"
      },
      "outputs": [
        {
          "data": {
            "text/plain": [
              "COLEGIO_PAIS           23574\n",
              "COLEGIO_PROV             228\n",
              "COLEGIO_DIST             228\n",
              "COLEGIO_DEPA             226\n",
              "NACIMIENTO_DIST          203\n",
              "NACIMIENTO_PROV          202\n",
              "NACIMIENTO_DEPA          202\n",
              "ESPECIALIDAD              55\n",
              "CALIF_FINAL               24\n",
              "IDHASH                     0\n",
              "NACIMIENTO_PAIS            0\n",
              "INGRESO                    0\n",
              "SEXO                       0\n",
              "DOMICILIO_PROV             0\n",
              "ANIO_NACIMIENTO            0\n",
              "DOMICILIO_DIST             0\n",
              "COLEGIO                    0\n",
              "DOMICILIO_DEPA             0\n",
              "CICLO_POSTULA              0\n",
              "ANIO_POSTULA               0\n",
              "COLEGIO_ANIO_EGRESO        0\n",
              "MODALIDAD                  0\n",
              "dtype: int64"
            ]
          },
          "execution_count": 13,
          "metadata": {},
          "output_type": "execute_result"
        }
      ],
      "source": [
        "# Valores nulos\n",
        "df.isnull().sum().sort_values(ascending=False)"
      ]
    },
    {
      "cell_type": "markdown",
      "metadata": {
        "id": "l7qvcU9rCnSF"
      },
      "source": [
        " COLEGIO_PAIS (país del colegio del postulante) es uno de los campos que contiene más valores nulos (más del 50%), tenemos que ver si podemos completar estos valores según otras columnas y evitar perder tantos datos."
      ]
    },
    {
      "cell_type": "code",
      "execution_count": 14,
      "metadata": {
        "colab": {
          "base_uri": "https://localhost:8080/",
          "height": 516
        },
        "id": "drgcFmluBVgw",
        "outputId": "011577d5-9c52-4d14-c3dd-a89291343af3"
      },
      "outputs": [
        {
          "data": {
            "text/html": [
              "<div>\n",
              "<style scoped>\n",
              "    .dataframe tbody tr th:only-of-type {\n",
              "        vertical-align: middle;\n",
              "    }\n",
              "\n",
              "    .dataframe tbody tr th {\n",
              "        vertical-align: top;\n",
              "    }\n",
              "\n",
              "    .dataframe thead th {\n",
              "        text-align: right;\n",
              "    }\n",
              "</style>\n",
              "<table border=\"1\" class=\"dataframe\">\n",
              "  <thead>\n",
              "    <tr style=\"text-align: right;\">\n",
              "      <th></th>\n",
              "      <th>IDHASH</th>\n",
              "      <th>COLEGIO</th>\n",
              "      <th>COLEGIO_DEPA</th>\n",
              "      <th>COLEGIO_PROV</th>\n",
              "      <th>COLEGIO_DIST</th>\n",
              "      <th>COLEGIO_PAIS</th>\n",
              "      <th>COLEGIO_ANIO_EGRESO</th>\n",
              "      <th>ESPECIALIDAD</th>\n",
              "      <th>ANIO_POSTULA</th>\n",
              "      <th>CICLO_POSTULA</th>\n",
              "      <th>...</th>\n",
              "      <th>DOMICILIO_DIST</th>\n",
              "      <th>ANIO_NACIMIENTO</th>\n",
              "      <th>NACIMIENTO_PAIS</th>\n",
              "      <th>NACIMIENTO_DEPA</th>\n",
              "      <th>NACIMIENTO_PROV</th>\n",
              "      <th>NACIMIENTO_DIST</th>\n",
              "      <th>SEXO</th>\n",
              "      <th>CALIF_FINAL</th>\n",
              "      <th>INGRESO</th>\n",
              "      <th>MODALIDAD</th>\n",
              "    </tr>\n",
              "  </thead>\n",
              "  <tbody>\n",
              "    <tr>\n",
              "      <th>17933</th>\n",
              "      <td>E4976AE1EAC6A4ED454D4583F8737DBCA32682C0E5E614...</td>\n",
              "      <td>CONSORCIO EDUCATIVO INGENIERIA</td>\n",
              "      <td>LIMA</td>\n",
              "      <td>LIMA</td>\n",
              "      <td>COMAS</td>\n",
              "      <td>NaN</td>\n",
              "      <td>2023</td>\n",
              "      <td>INGENIERÍA INDUSTRIAL</td>\n",
              "      <td>2024</td>\n",
              "      <td>1</td>\n",
              "      <td>...</td>\n",
              "      <td>SAN MARTIN DE PORRES</td>\n",
              "      <td>2007</td>\n",
              "      <td>PERÚ</td>\n",
              "      <td>SAN MARTIN</td>\n",
              "      <td>PICOTA</td>\n",
              "      <td>PICOTA</td>\n",
              "      <td>FEMENINO</td>\n",
              "      <td>0.033</td>\n",
              "      <td>NO</td>\n",
              "      <td>INGRESO ESCOLAR NACIONAL</td>\n",
              "    </tr>\n",
              "    <tr>\n",
              "      <th>20383</th>\n",
              "      <td>8CCAB7C588A98C9408CEFC601F51FF6C6D40E28B9B39D4...</td>\n",
              "      <td>CARLOS WIESSE</td>\n",
              "      <td>LIMA</td>\n",
              "      <td>LIMA</td>\n",
              "      <td>COMAS</td>\n",
              "      <td>NaN</td>\n",
              "      <td>2019</td>\n",
              "      <td>INGENIERÍA AMBIENTAL</td>\n",
              "      <td>2023</td>\n",
              "      <td>2</td>\n",
              "      <td>...</td>\n",
              "      <td>COMAS</td>\n",
              "      <td>2003</td>\n",
              "      <td>PERÚ</td>\n",
              "      <td>LIMA</td>\n",
              "      <td>LIMA</td>\n",
              "      <td>COMAS</td>\n",
              "      <td>MASCULINO</td>\n",
              "      <td>8.705</td>\n",
              "      <td>NO</td>\n",
              "      <td>ORDINARIO</td>\n",
              "    </tr>\n",
              "    <tr>\n",
              "      <th>8131</th>\n",
              "      <td>5A17DA95A4B8C2412AD10A5921A516FBE571A5A2E20219...</td>\n",
              "      <td>ESCUELA HOGAR COMUNITARIA REGIONAL SAGRADA FAM...</td>\n",
              "      <td>CALLAO</td>\n",
              "      <td>PROV CONST DEL CALLAO</td>\n",
              "      <td>VENTANILLA</td>\n",
              "      <td>NaN</td>\n",
              "      <td>2023</td>\n",
              "      <td>ARQUITECTURA</td>\n",
              "      <td>2024</td>\n",
              "      <td>1</td>\n",
              "      <td>...</td>\n",
              "      <td>VENTANILLA</td>\n",
              "      <td>2007</td>\n",
              "      <td>PERÚ</td>\n",
              "      <td>LIMA</td>\n",
              "      <td>LIMA</td>\n",
              "      <td>PUENTE PIEDRA</td>\n",
              "      <td>FEMENINO</td>\n",
              "      <td>7.541</td>\n",
              "      <td>NO</td>\n",
              "      <td>INGRESO ESCOLAR NACIONAL</td>\n",
              "    </tr>\n",
              "    <tr>\n",
              "      <th>16094</th>\n",
              "      <td>4537BC5BB48D761CBACF063DC50B6FC070FD4BA5F98049...</td>\n",
              "      <td>SACO OLIVEROS APEIRON</td>\n",
              "      <td>CALLAO</td>\n",
              "      <td>PROV CONST DEL CALLAO</td>\n",
              "      <td>CALLAO</td>\n",
              "      <td>NaN</td>\n",
              "      <td>2022</td>\n",
              "      <td>INGENIERÍA MECÁNICA</td>\n",
              "      <td>2024</td>\n",
              "      <td>1</td>\n",
              "      <td>...</td>\n",
              "      <td>CALLAO</td>\n",
              "      <td>2006</td>\n",
              "      <td>PERÚ</td>\n",
              "      <td>CALLAO</td>\n",
              "      <td>PROV CONST DEL CALLAO</td>\n",
              "      <td>CALLAO</td>\n",
              "      <td>FEMENINO</td>\n",
              "      <td>7.974</td>\n",
              "      <td>NO</td>\n",
              "      <td>EXTRAORDINARIO INGRESO DIRECTO CEPRE-UNI</td>\n",
              "    </tr>\n",
              "    <tr>\n",
              "      <th>15896</th>\n",
              "      <td>23B03C1EE744982396887C4450FE90D0A7996344BAD277...</td>\n",
              "      <td>MARIA MONTESSORI DE COPACABANA</td>\n",
              "      <td>LIMA</td>\n",
              "      <td>LIMA</td>\n",
              "      <td>PUENTE PIEDRA</td>\n",
              "      <td>NaN</td>\n",
              "      <td>2020</td>\n",
              "      <td>INGENIERÍA MECÁNICA</td>\n",
              "      <td>2024</td>\n",
              "      <td>1</td>\n",
              "      <td>...</td>\n",
              "      <td>CARABAYLLO</td>\n",
              "      <td>2004</td>\n",
              "      <td>PERÚ</td>\n",
              "      <td>LIMA</td>\n",
              "      <td>LIMA</td>\n",
              "      <td>LIMA</td>\n",
              "      <td>MASCULINO</td>\n",
              "      <td>3.714</td>\n",
              "      <td>NO</td>\n",
              "      <td>ORDINARIO</td>\n",
              "    </tr>\n",
              "  </tbody>\n",
              "</table>\n",
              "<p>5 rows × 22 columns</p>\n",
              "</div>"
            ],
            "text/plain": [
              "                                                  IDHASH  \\\n",
              "17933  E4976AE1EAC6A4ED454D4583F8737DBCA32682C0E5E614...   \n",
              "20383  8CCAB7C588A98C9408CEFC601F51FF6C6D40E28B9B39D4...   \n",
              "8131   5A17DA95A4B8C2412AD10A5921A516FBE571A5A2E20219...   \n",
              "16094  4537BC5BB48D761CBACF063DC50B6FC070FD4BA5F98049...   \n",
              "15896  23B03C1EE744982396887C4450FE90D0A7996344BAD277...   \n",
              "\n",
              "                                                 COLEGIO COLEGIO_DEPA  \\\n",
              "17933                     CONSORCIO EDUCATIVO INGENIERIA         LIMA   \n",
              "20383                                      CARLOS WIESSE         LIMA   \n",
              "8131   ESCUELA HOGAR COMUNITARIA REGIONAL SAGRADA FAM...       CALLAO   \n",
              "16094                              SACO OLIVEROS APEIRON       CALLAO   \n",
              "15896                     MARIA MONTESSORI DE COPACABANA         LIMA   \n",
              "\n",
              "                COLEGIO_PROV   COLEGIO_DIST COLEGIO_PAIS  COLEGIO_ANIO_EGRESO  \\\n",
              "17933                   LIMA          COMAS          NaN                 2023   \n",
              "20383                   LIMA          COMAS          NaN                 2019   \n",
              "8131   PROV CONST DEL CALLAO     VENTANILLA          NaN                 2023   \n",
              "16094  PROV CONST DEL CALLAO         CALLAO          NaN                 2022   \n",
              "15896                   LIMA  PUENTE PIEDRA          NaN                 2020   \n",
              "\n",
              "                ESPECIALIDAD  ANIO_POSTULA  CICLO_POSTULA  ...  \\\n",
              "17933  INGENIERÍA INDUSTRIAL          2024              1  ...   \n",
              "20383   INGENIERÍA AMBIENTAL          2023              2  ...   \n",
              "8131            ARQUITECTURA          2024              1  ...   \n",
              "16094    INGENIERÍA MECÁNICA          2024              1  ...   \n",
              "15896    INGENIERÍA MECÁNICA          2024              1  ...   \n",
              "\n",
              "             DOMICILIO_DIST ANIO_NACIMIENTO NACIMIENTO_PAIS  NACIMIENTO_DEPA  \\\n",
              "17933  SAN MARTIN DE PORRES            2007            PERÚ       SAN MARTIN   \n",
              "20383                 COMAS            2003            PERÚ             LIMA   \n",
              "8131             VENTANILLA            2007            PERÚ             LIMA   \n",
              "16094                CALLAO            2006            PERÚ           CALLAO   \n",
              "15896            CARABAYLLO            2004            PERÚ             LIMA   \n",
              "\n",
              "             NACIMIENTO_PROV NACIMIENTO_DIST       SEXO CALIF_FINAL INGRESO  \\\n",
              "17933                 PICOTA          PICOTA   FEMENINO       0.033      NO   \n",
              "20383                   LIMA           COMAS  MASCULINO       8.705      NO   \n",
              "8131                    LIMA   PUENTE PIEDRA   FEMENINO       7.541      NO   \n",
              "16094  PROV CONST DEL CALLAO          CALLAO   FEMENINO       7.974      NO   \n",
              "15896                   LIMA            LIMA  MASCULINO       3.714      NO   \n",
              "\n",
              "                                      MODALIDAD  \n",
              "17933                  INGRESO ESCOLAR NACIONAL  \n",
              "20383                                 ORDINARIO  \n",
              "8131                   INGRESO ESCOLAR NACIONAL  \n",
              "16094  EXTRAORDINARIO INGRESO DIRECTO CEPRE-UNI  \n",
              "15896                                 ORDINARIO  \n",
              "\n",
              "[5 rows x 22 columns]"
            ]
          },
          "execution_count": 14,
          "metadata": {},
          "output_type": "execute_result"
        }
      ],
      "source": [
        "# Mostrando algunos datos donde la columna COLEGIO_PAIS es nulo\n",
        "df[df['COLEGIO_PAIS'].isnull()].sample(5)"
      ]
    },
    {
      "cell_type": "markdown",
      "metadata": {
        "id": "uYWgQAMTFajU"
      },
      "source": [
        "Se puede inferir el Pais según el Departamento."
      ]
    },
    {
      "cell_type": "code",
      "execution_count": 15,
      "metadata": {
        "colab": {
          "base_uri": "https://localhost:8080/",
          "height": 773
        },
        "id": "Odm9vZREEjq3",
        "outputId": "a95922ff-c918-4a32-cbd8-4812e9cf1b7f"
      },
      "outputs": [
        {
          "data": {
            "text/plain": [
              "IDHASH                   0\n",
              "COLEGIO                  0\n",
              "COLEGIO_DEPA           226\n",
              "COLEGIO_PROV           226\n",
              "COLEGIO_DIST           226\n",
              "COLEGIO_PAIS           226\n",
              "COLEGIO_ANIO_EGRESO      0\n",
              "ESPECIALIDAD             0\n",
              "ANIO_POSTULA             0\n",
              "CICLO_POSTULA            0\n",
              "DOMICILIO_DEPA           0\n",
              "DOMICILIO_PROV           0\n",
              "DOMICILIO_DIST           0\n",
              "ANIO_NACIMIENTO          0\n",
              "NACIMIENTO_PAIS          0\n",
              "NACIMIENTO_DEPA          1\n",
              "NACIMIENTO_PROV          1\n",
              "NACIMIENTO_DIST          1\n",
              "SEXO                     0\n",
              "CALIF_FINAL             24\n",
              "INGRESO                  0\n",
              "MODALIDAD                0\n",
              "dtype: int64"
            ]
          },
          "execution_count": 15,
          "metadata": {},
          "output_type": "execute_result"
        }
      ],
      "source": [
        "# En el caso de colegios, vemos si cuando es nulo en un departamento\n",
        "# tambien es nulo en sus otros valores realcionados (pais, distr, prov)\n",
        "df[df['COLEGIO_DEPA'].isnull()].isnull().sum()"
      ]
    },
    {
      "cell_type": "markdown",
      "metadata": {
        "id": "YEEE83F-GXaJ"
      },
      "source": [
        "En la mayoría, si no hay valor en el departamento del colegio, tampoco lo hay en su provincia, distrito y país (con excepción de dos casos, donde al parecer hay valores para el departamento pero no para el distrito y la provincia)"
      ]
    },
    {
      "cell_type": "code",
      "execution_count": 16,
      "metadata": {
        "colab": {
          "base_uri": "https://localhost:8080/"
        },
        "id": "r1TtuRQpDmEb",
        "outputId": "5b40f843-153c-44b3-da9c-43471f3406d1"
      },
      "outputs": [
        {
          "data": {
            "text/plain": [
              "array(['PERÚ', 'VENEZUELA', 'ESPAÑA', 'ECUADOR', 'ARGENTINA', 'CHILE',\n",
              "       'ITALIA', 'COLOMBIA'], dtype=object)"
            ]
          },
          "execution_count": 16,
          "metadata": {},
          "output_type": "execute_result"
        }
      ],
      "source": [
        "# Valores únicos de COLEGIO_PAIS\n",
        "l_paises = df['COLEGIO_PAIS'].dropna().unique()\n",
        "l_paises"
      ]
    },
    {
      "cell_type": "code",
      "execution_count": 17,
      "metadata": {
        "colab": {
          "base_uri": "https://localhost:8080/"
        },
        "id": "Ob6CF2E7KWN_",
        "outputId": "bffed395-5a5f-4e94-ce5b-d8b1a9c1e146"
      },
      "outputs": [
        {
          "data": {
            "text/plain": [
              "array(['AMAZONAS', 'ANCASH', 'APURIMAC', 'APURÍMAC', 'AREQUIPA',\n",
              "       'ARGENTINA', 'AYACUCHO', 'CAJAMARCA', 'CALLAO', 'CANADA', 'CHILE',\n",
              "       'COLOMBIA', 'CUSCO', 'ECUADOR', 'ESPAÑA', 'HUANCAVELICA',\n",
              "       'HUANUCO', 'HUÁNUCO', 'ICA', 'ITALIA', 'JUNIN', 'JUNÍN',\n",
              "       'LA LIBERTAD', 'LAMBAYEQUE', 'LIMA', 'LORETO', 'MADRE DE DIOS',\n",
              "       'MOQUEGUA', 'PASCO', 'PIURA', 'PUNO', 'SAN MARTIN', 'SAN MARTÍN',\n",
              "       'TACNA', 'TUMBES', 'UCAYALI', 'VENEZUELA', 'ÁNCASH'], dtype=object)"
            ]
          },
          "execution_count": 17,
          "metadata": {},
          "output_type": "execute_result"
        }
      ],
      "source": [
        "# Valores únicos de COLEGIO_DEPA\n",
        "l_depas = df['COLEGIO_DEPA'].dropna().unique()\n",
        "l_depas.sort()\n",
        "l_depas"
      ]
    },
    {
      "cell_type": "markdown",
      "metadata": {
        "id": "HKwrvrSEK689"
      },
      "source": [
        "Parece ser que algunos departamentos se repiten debido a que uno lleva tilde y el otro no (ÁNCASH y ANCASH), los casos son: 'ANCASH', 'HUANUCO', 'JUNIN', 'APURIMAC' y 'SAN MARTIN'.  \n",
        "Este tipo de error se repite en varias columnas que tiene que ver con la ubicación (colegio, domicilio y nacimiento), entonces para abordar este problema, eliminaremos las tildes de todos estos campos."
      ]
    },
    {
      "cell_type": "code",
      "execution_count": 18,
      "metadata": {
        "id": "zjBf0mdizeI4"
      },
      "outputs": [],
      "source": [
        "# Eliminado tildes\n",
        "columnas_tildes = ['COLEGIO_DEPA', 'COLEGIO_PROV', 'COLEGIO_DIST',\n",
        "                  'DOMICILIO_DEPA', 'DOMICILIO_PROV', 'DOMICILIO_DIST',\n",
        "                  'NACIMIENTO_DEPA', 'NACIMIENTO_PROV', 'NACIMIENTO_DIST']\n",
        "for col in columnas_tildes:\n",
        "  df[col] = df[col].str.normalize('NFKD').str.encode('ascii', errors='ignore').str.decode('utf-8')"
      ]
    },
    {
      "cell_type": "markdown",
      "metadata": {
        "id": "W5ZGODndMcDY"
      },
      "source": [
        "Tambien se observa que tenemos a CANADA, probablemente del pais CANADA, que presenta varios valores nulos, pero al ser una sola muestra no se tomará en cuenta (se eliminará al limpiar los valores nulos)"
      ]
    },
    {
      "cell_type": "code",
      "execution_count": 19,
      "metadata": {
        "colab": {
          "base_uri": "https://localhost:8080/",
          "height": 182
        },
        "id": "rNNouPsmMg4o",
        "outputId": "c1a79421-5757-4f21-a748-c2759b4aa0c6"
      },
      "outputs": [
        {
          "data": {
            "text/html": [
              "<div>\n",
              "<style scoped>\n",
              "    .dataframe tbody tr th:only-of-type {\n",
              "        vertical-align: middle;\n",
              "    }\n",
              "\n",
              "    .dataframe tbody tr th {\n",
              "        vertical-align: top;\n",
              "    }\n",
              "\n",
              "    .dataframe thead th {\n",
              "        text-align: right;\n",
              "    }\n",
              "</style>\n",
              "<table border=\"1\" class=\"dataframe\">\n",
              "  <thead>\n",
              "    <tr style=\"text-align: right;\">\n",
              "      <th></th>\n",
              "      <th>IDHASH</th>\n",
              "      <th>COLEGIO</th>\n",
              "      <th>COLEGIO_DEPA</th>\n",
              "      <th>COLEGIO_PROV</th>\n",
              "      <th>COLEGIO_DIST</th>\n",
              "      <th>COLEGIO_PAIS</th>\n",
              "      <th>COLEGIO_ANIO_EGRESO</th>\n",
              "      <th>ESPECIALIDAD</th>\n",
              "      <th>ANIO_POSTULA</th>\n",
              "      <th>CICLO_POSTULA</th>\n",
              "      <th>...</th>\n",
              "      <th>DOMICILIO_DIST</th>\n",
              "      <th>ANIO_NACIMIENTO</th>\n",
              "      <th>NACIMIENTO_PAIS</th>\n",
              "      <th>NACIMIENTO_DEPA</th>\n",
              "      <th>NACIMIENTO_PROV</th>\n",
              "      <th>NACIMIENTO_DIST</th>\n",
              "      <th>SEXO</th>\n",
              "      <th>CALIF_FINAL</th>\n",
              "      <th>INGRESO</th>\n",
              "      <th>MODALIDAD</th>\n",
              "    </tr>\n",
              "  </thead>\n",
              "  <tbody>\n",
              "    <tr>\n",
              "      <th>4027</th>\n",
              "      <td>45C6AA44C712F58DF8B84F3D401A0634C2A6050BF1A36D...</td>\n",
              "      <td>BISHOP O'BYRNE HIGH SCHOOL</td>\n",
              "      <td>CANADA</td>\n",
              "      <td>CALGARY</td>\n",
              "      <td>CALGARY</td>\n",
              "      <td>NaN</td>\n",
              "      <td>2022</td>\n",
              "      <td>INGENIERÍA CIVIL</td>\n",
              "      <td>2023</td>\n",
              "      <td>2</td>\n",
              "      <td>...</td>\n",
              "      <td>LIMA</td>\n",
              "      <td>2004</td>\n",
              "      <td>EE.UU.</td>\n",
              "      <td>NaN</td>\n",
              "      <td>NaN</td>\n",
              "      <td>NaN</td>\n",
              "      <td>MASCULINO</td>\n",
              "      <td>4.759</td>\n",
              "      <td>NO</td>\n",
              "      <td>ORDINARIO</td>\n",
              "    </tr>\n",
              "  </tbody>\n",
              "</table>\n",
              "<p>1 rows × 22 columns</p>\n",
              "</div>"
            ],
            "text/plain": [
              "                                                 IDHASH  \\\n",
              "4027  45C6AA44C712F58DF8B84F3D401A0634C2A6050BF1A36D...   \n",
              "\n",
              "                         COLEGIO COLEGIO_DEPA COLEGIO_PROV COLEGIO_DIST  \\\n",
              "4027  BISHOP O'BYRNE HIGH SCHOOL       CANADA      CALGARY      CALGARY   \n",
              "\n",
              "     COLEGIO_PAIS  COLEGIO_ANIO_EGRESO      ESPECIALIDAD  ANIO_POSTULA  \\\n",
              "4027          NaN                 2022  INGENIERÍA CIVIL          2023   \n",
              "\n",
              "      CICLO_POSTULA  ... DOMICILIO_DIST ANIO_NACIMIENTO NACIMIENTO_PAIS  \\\n",
              "4027              2  ...           LIMA            2004          EE.UU.   \n",
              "\n",
              "      NACIMIENTO_DEPA NACIMIENTO_PROV NACIMIENTO_DIST       SEXO CALIF_FINAL  \\\n",
              "4027              NaN             NaN             NaN  MASCULINO       4.759   \n",
              "\n",
              "     INGRESO  MODALIDAD  \n",
              "4027      NO  ORDINARIO  \n",
              "\n",
              "[1 rows x 22 columns]"
            ]
          },
          "execution_count": 19,
          "metadata": {},
          "output_type": "execute_result"
        }
      ],
      "source": [
        "# CANADA\n",
        "df[df['COLEGIO_DEPA'] == 'CANADA']"
      ]
    },
    {
      "cell_type": "code",
      "execution_count": 20,
      "metadata": {
        "colab": {
          "base_uri": "https://localhost:8080/"
        },
        "id": "FRf9AayCD0u5",
        "outputId": "187fd80a-5ec6-4320-d0f8-7c7ab3867f64"
      },
      "outputs": [
        {
          "data": {
            "text/plain": [
              "{'PERÚ': array(['LIMA', 'ANCASH', 'AYACUCHO', 'ICA', 'CAJAMARCA', 'JUNIN',\n",
              "        'HUANUCO', 'CALLAO', 'HUANCAVELICA', 'LAMBAYEQUE', 'PIURA',\n",
              "        'AMAZONAS', 'APURIMAC', 'MADRE DE DIOS', 'SAN MARTIN', 'PUNO',\n",
              "        'UCAYALI', 'LORETO', 'PASCO', 'LA LIBERTAD', 'TACNA', 'TUMBES',\n",
              "        'AREQUIPA', 'CUSCO', 'MOQUEGUA'], dtype=object),\n",
              " 'VENEZUELA': array(['VENEZUELA'], dtype=object),\n",
              " 'ESPAÑA': array(['ESPANA'], dtype=object),\n",
              " 'ECUADOR': array(['ECUADOR'], dtype=object),\n",
              " 'ARGENTINA': array(['ARGENTINA'], dtype=object),\n",
              " 'CHILE': array(['CHILE'], dtype=object),\n",
              " 'ITALIA': array(['ITALIA'], dtype=object),\n",
              " 'COLOMBIA': array(['COLOMBIA'], dtype=object)}"
            ]
          },
          "execution_count": 20,
          "metadata": {},
          "output_type": "execute_result"
        }
      ],
      "source": [
        "# Guardamos los departamentos en un diccionario según el pais\n",
        "d_paises = {}\n",
        "for pais in l_paises:\n",
        "  d_paises[pais] = df[df['COLEGIO_PAIS'] == pais]['COLEGIO_DEPA'].dropna().unique()\n",
        "d_paises"
      ]
    },
    {
      "cell_type": "markdown",
      "metadata": {
        "id": "T5d-tccRHfVX"
      },
      "source": [
        "Solo en el caso de que los colegios sean de Perú, se especifica su departamento, etc.; para los otros paises solo se considera el mismo país para esos valores"
      ]
    },
    {
      "cell_type": "code",
      "execution_count": 21,
      "metadata": {
        "colab": {
          "base_uri": "https://localhost:8080/"
        },
        "id": "23CgaCxLHe0m",
        "outputId": "77857837-8363-4a5a-ffb1-6dab946c9522"
      },
      "outputs": [
        {
          "data": {
            "text/plain": [
              "25"
            ]
          },
          "execution_count": 21,
          "metadata": {},
          "output_type": "execute_result"
        }
      ],
      "source": [
        "len(d_paises['PERÚ']) # Tenemos los 24 departamentos + callao"
      ]
    },
    {
      "cell_type": "code",
      "execution_count": 22,
      "metadata": {
        "id": "KRUcwAlFHaqe"
      },
      "outputs": [],
      "source": [
        "# Rellenaremos los valores nulos de COLEGIO_PAIS segun los datos de COLEGIO_DEPA\n",
        "for pais in d_paises.keys():\n",
        "  df.loc[(df['COLEGIO_PAIS'].isnull()) & (df['COLEGIO_DEPA'].isin(d_paises[pais])), 'COLEGIO_PAIS'] = pais"
      ]
    },
    {
      "cell_type": "code",
      "execution_count": 23,
      "metadata": {
        "colab": {
          "base_uri": "https://localhost:8080/",
          "height": 773
        },
        "id": "qIPg_4OoJN9B",
        "outputId": "e79d89a2-f73f-46d9-d55b-e329e71d751a"
      },
      "outputs": [
        {
          "data": {
            "text/plain": [
              "COLEGIO_PROV           228\n",
              "COLEGIO_DIST           228\n",
              "COLEGIO_PAIS           227\n",
              "COLEGIO_DEPA           226\n",
              "NACIMIENTO_DIST        203\n",
              "NACIMIENTO_PROV        202\n",
              "NACIMIENTO_DEPA        202\n",
              "ESPECIALIDAD            55\n",
              "CALIF_FINAL             24\n",
              "IDHASH                   0\n",
              "NACIMIENTO_PAIS          0\n",
              "INGRESO                  0\n",
              "SEXO                     0\n",
              "DOMICILIO_PROV           0\n",
              "ANIO_NACIMIENTO          0\n",
              "DOMICILIO_DIST           0\n",
              "COLEGIO                  0\n",
              "DOMICILIO_DEPA           0\n",
              "CICLO_POSTULA            0\n",
              "ANIO_POSTULA             0\n",
              "COLEGIO_ANIO_EGRESO      0\n",
              "MODALIDAD                0\n",
              "dtype: int64"
            ]
          },
          "execution_count": 23,
          "metadata": {},
          "output_type": "execute_result"
        }
      ],
      "source": [
        "# Visualizamos los valores nulos restantes\n",
        "df.isnull().sum().sort_values(ascending=False)"
      ]
    },
    {
      "cell_type": "markdown",
      "metadata": {
        "id": "11NpcEslPX_-"
      },
      "source": [
        "Para los demas casos de colegios, es difícil porder encontrar los valores nulos; de la misma forma para el lugar de nacimiento, donde se tiene el pais pero no el departamente, provincia y distrito. Por eso se considera eliminar las filas con valores nulos."
      ]
    },
    {
      "cell_type": "code",
      "execution_count": 24,
      "metadata": {
        "colab": {
          "base_uri": "https://localhost:8080/"
        },
        "id": "qlPh3vF3QGHZ",
        "outputId": "c65742a2-33aa-4bf3-f480-bce218eb2e5d"
      },
      "outputs": [
        {
          "data": {
            "text/plain": [
              "(42516, 22)"
            ]
          },
          "execution_count": 24,
          "metadata": {},
          "output_type": "execute_result"
        }
      ],
      "source": [
        "df.shape # Ahora"
      ]
    },
    {
      "cell_type": "code",
      "execution_count": 25,
      "metadata": {
        "colab": {
          "base_uri": "https://localhost:8080/"
        },
        "id": "zdn3V12iPqWF",
        "outputId": "4610d710-18ac-49ab-a8dd-38dc864a463f"
      },
      "outputs": [
        {
          "data": {
            "text/plain": [
              "(42033, 22)"
            ]
          },
          "execution_count": 25,
          "metadata": {},
          "output_type": "execute_result"
        }
      ],
      "source": [
        "df.dropna().shape # Si elimináramos las filas con valores nulos"
      ]
    },
    {
      "cell_type": "markdown",
      "metadata": {
        "id": "G3_DM3y8Pt6X"
      },
      "source": [
        "Eliminando las filas que presentan valores nulos, se perdería un total de 483 fila de datos, lo que seria menos del 1.2% de la data. Procedemos a eliminar estas filas."
      ]
    },
    {
      "cell_type": "code",
      "execution_count": 26,
      "metadata": {
        "id": "rb5-dgVzQvAr"
      },
      "outputs": [],
      "source": [
        "df.dropna(inplace=True)"
      ]
    },
    {
      "cell_type": "markdown",
      "metadata": {
        "id": "NwO5eYB-UAYp"
      },
      "source": [
        "Exportamos los datos preprocesados"
      ]
    },
    {
      "cell_type": "code",
      "execution_count": 28,
      "metadata": {
        "id": "DSw5tgxNTtb6"
      },
      "outputs": [],
      "source": [
        "df.to_csv('datasets/admission-data-clean.csv', index=False)"
      ]
    }
  ],
  "metadata": {
    "colab": {
      "provenance": []
    },
    "kernelspec": {
      "display_name": "Python 3",
      "name": "python3"
    },
    "language_info": {
      "codemirror_mode": {
        "name": "ipython",
        "version": 3
      },
      "file_extension": ".py",
      "mimetype": "text/x-python",
      "name": "python",
      "nbconvert_exporter": "python",
      "pygments_lexer": "ipython3",
      "version": "3.10.6"
    }
  },
  "nbformat": 4,
  "nbformat_minor": 0
}
