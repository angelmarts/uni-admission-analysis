{
  "cells": [
    {
      "cell_type": "markdown",
      "metadata": {
        "id": "CtZ3jITZfXC1"
      },
      "source": [
        "# Introducción"
      ]
    },
    {
      "cell_type": "markdown",
      "metadata": {
        "id": "mSWGMywofzWk"
      },
      "source": [
        "El dataset presentado es un listado de postulantes al Concurso de Admisión de la Universidad Nacional de Ingeniería desde 2021-1 al 2024-1.  \n",
        "Este dataset está caracterizado por:\n",
        "\n",
        "* Datos del postulante: Id anonimizado, colegio, lugar del colegio (departamento, provincia, distrito), año de egreso de colegio, año de nacimiento, sexo, lugar del domicilio (departamento, provincia, distrito), lugar de nacimiento (departamento, provincia, distrito)\n",
        "* Datos de la postulación: Especialidad, año, ciclo, calificación, ingreso y modalidad de ingreso.\n",
        "\n"
      ]
    },
    {
      "cell_type": "markdown",
      "metadata": {
        "id": "XqZT7rnskr9l"
      },
      "source": [
        "Funte: [Postulantes al Concurso de Admisión de la Universidad Nacional de Ingeniería - UNI (datosabiertos.gob.pe)\n",
        "](https://www.datosabiertos.gob.pe/dataset/postulantes-al-concurso-de-admisión-de-la-universidad-nacional-de-ingeniería-uni)"
      ]
    },
    {
      "cell_type": "markdown",
      "metadata": {
        "id": "Mip3iNBMg1HA"
      },
      "source": [
        "La finalidad de este Notebook es preprocesar los datos para un posterior análisis."
      ]
    },
    {
      "cell_type": "markdown",
      "metadata": {
        "id": "OalG-NHZVciV"
      },
      "source": [
        "# Carga y exploración de datos"
      ]
    },
    {
      "cell_type": "code",
      "execution_count": 1,
      "metadata": {
        "id": "zjGJsbyO-4pP"
      },
      "outputs": [],
      "source": [
        "import pandas as pd\n",
        "import numpy as np"
      ]
    },
    {
      "cell_type": "code",
      "execution_count": 2,
      "metadata": {
        "colab": {
          "base_uri": "https://localhost:8080/"
        },
        "id": "K_L8v7-A-7IQ",
        "outputId": "b84cc44e-2ca0-4ed4-e68b-7af855ccd614"
      },
      "outputs": [
        {
          "name": "stdout",
          "output_type": "stream",
          "text": [
            "<class 'pandas.core.frame.DataFrame'>\n",
            "RangeIndex: 42516 entries, 0 to 42515\n",
            "Data columns (total 22 columns):\n",
            " #   Column               Non-Null Count  Dtype  \n",
            "---  ------               --------------  -----  \n",
            " 0   IDHASH               42516 non-null  object \n",
            " 1   COLEGIO              42516 non-null  object \n",
            " 2   COLEGIO_DEPA         42290 non-null  object \n",
            " 3   COLEGIO_PROV         42288 non-null  object \n",
            " 4   COLEGIO_DIST         42288 non-null  object \n",
            " 5   COLEGIO_PAIS         18942 non-null  object \n",
            " 6   COLEGIO_ANIO_EGRESO  42516 non-null  int64  \n",
            " 7   ESPECIALIDAD         42461 non-null  object \n",
            " 8   ANIO_POSTULA         42516 non-null  int64  \n",
            " 9   CICLO_POSTULA        42516 non-null  int64  \n",
            " 10  DOMICILIO_DEPA       42516 non-null  object \n",
            " 11  DOMICILIO_PROV       42516 non-null  object \n",
            " 12  DOMICILIO_DIST       42516 non-null  object \n",
            " 13  ANIO_NACIMIENTO      42516 non-null  int64  \n",
            " 14  NACIMIENTO_PAIS      42516 non-null  object \n",
            " 15  NACIMIENTO_DEPA      42314 non-null  object \n",
            " 16  NACIMIENTO_PROV      42314 non-null  object \n",
            " 17  NACIMIENTO_DIST      42313 non-null  object \n",
            " 18  SEXO                 42516 non-null  object \n",
            " 19  CALIF_FINAL          42492 non-null  float64\n",
            " 20  INGRESO              42516 non-null  object \n",
            " 21  MODALIDAD            42516 non-null  object \n",
            "dtypes: float64(1), int64(4), object(17)\n",
            "memory usage: 7.1+ MB\n"
          ]
        }
      ],
      "source": [
        "# Datos obtenidos de de datosabiertos.gob.pe\n",
        "path = r'datasets/admission-data-raw.csv'\n",
        "df = pd.read_csv(path)\n",
        "df.info()"
      ]
    },
    {
      "cell_type": "markdown",
      "metadata": {
        "id": "gkT_hz11jjCJ"
      },
      "source": [
        "Los tipos de datos coinciden con lo que representa cada columna."
      ]
    },
    {
      "cell_type": "code",
      "execution_count": 3,
      "metadata": {
        "colab": {
          "base_uri": "https://localhost:8080/",
          "height": 279
        },
        "id": "VYXCsfUsVnC8",
        "outputId": "de248866-0902-4264-aa6a-bd9002ac8aea"
      },
      "outputs": [
        {
          "data": {
            "text/html": [
              "<div>\n",
              "<style scoped>\n",
              "    .dataframe tbody tr th:only-of-type {\n",
              "        vertical-align: middle;\n",
              "    }\n",
              "\n",
              "    .dataframe tbody tr th {\n",
              "        vertical-align: top;\n",
              "    }\n",
              "\n",
              "    .dataframe thead th {\n",
              "        text-align: right;\n",
              "    }\n",
              "</style>\n",
              "<table border=\"1\" class=\"dataframe\">\n",
              "  <thead>\n",
              "    <tr style=\"text-align: right;\">\n",
              "      <th></th>\n",
              "      <th>IDHASH</th>\n",
              "      <th>COLEGIO</th>\n",
              "      <th>COLEGIO_DEPA</th>\n",
              "      <th>COLEGIO_PROV</th>\n",
              "      <th>COLEGIO_DIST</th>\n",
              "      <th>COLEGIO_PAIS</th>\n",
              "      <th>COLEGIO_ANIO_EGRESO</th>\n",
              "      <th>ESPECIALIDAD</th>\n",
              "      <th>ANIO_POSTULA</th>\n",
              "      <th>CICLO_POSTULA</th>\n",
              "      <th>...</th>\n",
              "      <th>DOMICILIO_DIST</th>\n",
              "      <th>ANIO_NACIMIENTO</th>\n",
              "      <th>NACIMIENTO_PAIS</th>\n",
              "      <th>NACIMIENTO_DEPA</th>\n",
              "      <th>NACIMIENTO_PROV</th>\n",
              "      <th>NACIMIENTO_DIST</th>\n",
              "      <th>SEXO</th>\n",
              "      <th>CALIF_FINAL</th>\n",
              "      <th>INGRESO</th>\n",
              "      <th>MODALIDAD</th>\n",
              "    </tr>\n",
              "  </thead>\n",
              "  <tbody>\n",
              "    <tr>\n",
              "      <th>23311</th>\n",
              "      <td>F27D76F94A55DC287973E597D2481EDF583DE5DF12A998...</td>\n",
              "      <td>3051</td>\n",
              "      <td>LIMA</td>\n",
              "      <td>LIMA</td>\n",
              "      <td>INDEPENDENCIA</td>\n",
              "      <td>PERÚ</td>\n",
              "      <td>2017</td>\n",
              "      <td>INGENIERÍA DE MINAS</td>\n",
              "      <td>2021</td>\n",
              "      <td>1</td>\n",
              "      <td>...</td>\n",
              "      <td>INDEPENDENCIA</td>\n",
              "      <td>2001</td>\n",
              "      <td>PERÚ</td>\n",
              "      <td>LIMA</td>\n",
              "      <td>LIMA</td>\n",
              "      <td>RÍMAC</td>\n",
              "      <td>MASCULINO</td>\n",
              "      <td>5.720</td>\n",
              "      <td>NO</td>\n",
              "      <td>ORDINARIO</td>\n",
              "    </tr>\n",
              "    <tr>\n",
              "      <th>13105</th>\n",
              "      <td>E6357C93DE9A96052FE0C1CF3AB8935EFDFB0AAE75C840...</td>\n",
              "      <td>0025 SAN MARTIN DE PORRES</td>\n",
              "      <td>LIMA</td>\n",
              "      <td>LIMA</td>\n",
              "      <td>ATE</td>\n",
              "      <td>PERÚ</td>\n",
              "      <td>2018</td>\n",
              "      <td>INGENIERÍA QUÍMICA</td>\n",
              "      <td>2021</td>\n",
              "      <td>2</td>\n",
              "      <td>...</td>\n",
              "      <td>ATE</td>\n",
              "      <td>2002</td>\n",
              "      <td>PERÚ</td>\n",
              "      <td>LIMA</td>\n",
              "      <td>LIMA</td>\n",
              "      <td>SANTA ANITA</td>\n",
              "      <td>FEMENINO</td>\n",
              "      <td>6.612</td>\n",
              "      <td>NO</td>\n",
              "      <td>EXTRAORDINARIO 2 – INGRESO DIRECTO CEPRE</td>\n",
              "    </tr>\n",
              "    <tr>\n",
              "      <th>5660</th>\n",
              "      <td>802A70091128B98C593966BF0F5A25AA871A6D364B0E64...</td>\n",
              "      <td>IGNACIA VELASQUEZ</td>\n",
              "      <td>SAN MARTIN</td>\n",
              "      <td>MOYOBAMBA</td>\n",
              "      <td>MOYOBAMBA</td>\n",
              "      <td>NaN</td>\n",
              "      <td>2023</td>\n",
              "      <td>INGENIERÍA CIVIL</td>\n",
              "      <td>2024</td>\n",
              "      <td>1</td>\n",
              "      <td>...</td>\n",
              "      <td>MOYOBAMBA</td>\n",
              "      <td>2007</td>\n",
              "      <td>PERÚ</td>\n",
              "      <td>SAN MARTIN</td>\n",
              "      <td>MOYOBAMBA</td>\n",
              "      <td>MOYOBAMBA</td>\n",
              "      <td>MASCULINO</td>\n",
              "      <td>4.156</td>\n",
              "      <td>NO</td>\n",
              "      <td>TALENTO BECA 18</td>\n",
              "    </tr>\n",
              "  </tbody>\n",
              "</table>\n",
              "<p>3 rows × 22 columns</p>\n",
              "</div>"
            ],
            "text/plain": [
              "                                                  IDHASH  \\\n",
              "23311  F27D76F94A55DC287973E597D2481EDF583DE5DF12A998...   \n",
              "13105  E6357C93DE9A96052FE0C1CF3AB8935EFDFB0AAE75C840...   \n",
              "5660   802A70091128B98C593966BF0F5A25AA871A6D364B0E64...   \n",
              "\n",
              "                         COLEGIO COLEGIO_DEPA COLEGIO_PROV   COLEGIO_DIST  \\\n",
              "23311                       3051         LIMA         LIMA  INDEPENDENCIA   \n",
              "13105  0025 SAN MARTIN DE PORRES         LIMA         LIMA            ATE   \n",
              "5660           IGNACIA VELASQUEZ   SAN MARTIN    MOYOBAMBA      MOYOBAMBA   \n",
              "\n",
              "      COLEGIO_PAIS  COLEGIO_ANIO_EGRESO         ESPECIALIDAD  ANIO_POSTULA  \\\n",
              "23311         PERÚ                 2017  INGENIERÍA DE MINAS          2021   \n",
              "13105         PERÚ                 2018   INGENIERÍA QUÍMICA          2021   \n",
              "5660           NaN                 2023     INGENIERÍA CIVIL          2024   \n",
              "\n",
              "       CICLO_POSTULA  ... DOMICILIO_DIST ANIO_NACIMIENTO NACIMIENTO_PAIS  \\\n",
              "23311              1  ...  INDEPENDENCIA            2001            PERÚ   \n",
              "13105              2  ...            ATE            2002            PERÚ   \n",
              "5660               1  ...      MOYOBAMBA            2007            PERÚ   \n",
              "\n",
              "       NACIMIENTO_DEPA NACIMIENTO_PROV NACIMIENTO_DIST       SEXO CALIF_FINAL  \\\n",
              "23311             LIMA            LIMA           RÍMAC  MASCULINO       5.720   \n",
              "13105             LIMA            LIMA     SANTA ANITA   FEMENINO       6.612   \n",
              "5660        SAN MARTIN       MOYOBAMBA       MOYOBAMBA  MASCULINO       4.156   \n",
              "\n",
              "      INGRESO                                 MODALIDAD  \n",
              "23311      NO                                 ORDINARIO  \n",
              "13105      NO  EXTRAORDINARIO 2 – INGRESO DIRECTO CEPRE  \n",
              "5660       NO                           TALENTO BECA 18  \n",
              "\n",
              "[3 rows x 22 columns]"
            ]
          },
          "execution_count": 3,
          "metadata": {},
          "output_type": "execute_result"
        }
      ],
      "source": [
        "df.sample(3)"
      ]
    },
    {
      "cell_type": "code",
      "execution_count": 4,
      "metadata": {
        "colab": {
          "base_uri": "https://localhost:8080/",
          "height": 206
        },
        "id": "pFxRCMAuUsGf",
        "outputId": "4ef0d11a-6660-4179-f1dc-461da3668642"
      },
      "outputs": [
        {
          "data": {
            "text/html": [
              "<div>\n",
              "<style scoped>\n",
              "    .dataframe tbody tr th:only-of-type {\n",
              "        vertical-align: middle;\n",
              "    }\n",
              "\n",
              "    .dataframe tbody tr th {\n",
              "        vertical-align: top;\n",
              "    }\n",
              "\n",
              "    .dataframe thead th {\n",
              "        text-align: right;\n",
              "    }\n",
              "</style>\n",
              "<table border=\"1\" class=\"dataframe\">\n",
              "  <thead>\n",
              "    <tr style=\"text-align: right;\">\n",
              "      <th></th>\n",
              "      <th>count</th>\n",
              "      <th>mean</th>\n",
              "      <th>std</th>\n",
              "      <th>min</th>\n",
              "      <th>25%</th>\n",
              "      <th>50%</th>\n",
              "      <th>75%</th>\n",
              "      <th>max</th>\n",
              "    </tr>\n",
              "  </thead>\n",
              "  <tbody>\n",
              "    <tr>\n",
              "      <th>COLEGIO_ANIO_EGRESO</th>\n",
              "      <td>42516.0</td>\n",
              "      <td>2020.043301</td>\n",
              "      <td>2.853733</td>\n",
              "      <td>1970.0</td>\n",
              "      <td>2019.000</td>\n",
              "      <td>2020.000</td>\n",
              "      <td>2022.000</td>\n",
              "      <td>2025.0</td>\n",
              "    </tr>\n",
              "    <tr>\n",
              "      <th>ANIO_POSTULA</th>\n",
              "      <td>42516.0</td>\n",
              "      <td>2022.564352</td>\n",
              "      <td>1.078730</td>\n",
              "      <td>2021.0</td>\n",
              "      <td>2022.000</td>\n",
              "      <td>2023.000</td>\n",
              "      <td>2023.000</td>\n",
              "      <td>2024.0</td>\n",
              "    </tr>\n",
              "    <tr>\n",
              "      <th>CICLO_POSTULA</th>\n",
              "      <td>42516.0</td>\n",
              "      <td>1.313082</td>\n",
              "      <td>0.463753</td>\n",
              "      <td>1.0</td>\n",
              "      <td>1.000</td>\n",
              "      <td>1.000</td>\n",
              "      <td>2.000</td>\n",
              "      <td>2.0</td>\n",
              "    </tr>\n",
              "    <tr>\n",
              "      <th>ANIO_NACIMIENTO</th>\n",
              "      <td>42516.0</td>\n",
              "      <td>2003.665138</td>\n",
              "      <td>2.858881</td>\n",
              "      <td>1948.0</td>\n",
              "      <td>2003.000</td>\n",
              "      <td>2004.000</td>\n",
              "      <td>2005.000</td>\n",
              "      <td>2008.0</td>\n",
              "    </tr>\n",
              "    <tr>\n",
              "      <th>CALIF_FINAL</th>\n",
              "      <td>42492.0</td>\n",
              "      <td>7.640941</td>\n",
              "      <td>3.561482</td>\n",
              "      <td>0.0</td>\n",
              "      <td>4.894</td>\n",
              "      <td>7.288</td>\n",
              "      <td>10.313</td>\n",
              "      <td>20.0</td>\n",
              "    </tr>\n",
              "  </tbody>\n",
              "</table>\n",
              "</div>"
            ],
            "text/plain": [
              "                       count         mean       std     min       25%  \\\n",
              "COLEGIO_ANIO_EGRESO  42516.0  2020.043301  2.853733  1970.0  2019.000   \n",
              "ANIO_POSTULA         42516.0  2022.564352  1.078730  2021.0  2022.000   \n",
              "CICLO_POSTULA        42516.0     1.313082  0.463753     1.0     1.000   \n",
              "ANIO_NACIMIENTO      42516.0  2003.665138  2.858881  1948.0  2003.000   \n",
              "CALIF_FINAL          42492.0     7.640941  3.561482     0.0     4.894   \n",
              "\n",
              "                          50%       75%     max  \n",
              "COLEGIO_ANIO_EGRESO  2020.000  2022.000  2025.0  \n",
              "ANIO_POSTULA         2023.000  2023.000  2024.0  \n",
              "CICLO_POSTULA           1.000     2.000     2.0  \n",
              "ANIO_NACIMIENTO      2004.000  2005.000  2008.0  \n",
              "CALIF_FINAL             7.288    10.313    20.0  "
            ]
          },
          "execution_count": 4,
          "metadata": {},
          "output_type": "execute_result"
        }
      ],
      "source": [
        "# Valores numericos\n",
        "df.describe().T"
      ]
    },
    {
      "cell_type": "code",
      "execution_count": 5,
      "metadata": {
        "colab": {
          "base_uri": "https://localhost:8080/",
          "height": 582
        },
        "id": "_P_JxZ65UxJ4",
        "outputId": "85694012-2ecd-47fa-82c5-5a40d2bb3846"
      },
      "outputs": [
        {
          "data": {
            "text/html": [
              "<div>\n",
              "<style scoped>\n",
              "    .dataframe tbody tr th:only-of-type {\n",
              "        vertical-align: middle;\n",
              "    }\n",
              "\n",
              "    .dataframe tbody tr th {\n",
              "        vertical-align: top;\n",
              "    }\n",
              "\n",
              "    .dataframe thead th {\n",
              "        text-align: right;\n",
              "    }\n",
              "</style>\n",
              "<table border=\"1\" class=\"dataframe\">\n",
              "  <thead>\n",
              "    <tr style=\"text-align: right;\">\n",
              "      <th></th>\n",
              "      <th>count</th>\n",
              "      <th>unique</th>\n",
              "      <th>top</th>\n",
              "      <th>freq</th>\n",
              "    </tr>\n",
              "  </thead>\n",
              "  <tbody>\n",
              "    <tr>\n",
              "      <th>IDHASH</th>\n",
              "      <td>42516</td>\n",
              "      <td>26177</td>\n",
              "      <td>5951EB18DB039C2A8DC6A5EFFD98D90DE313752DED1E65...</td>\n",
              "      <td>7</td>\n",
              "    </tr>\n",
              "    <tr>\n",
              "      <th>COLEGIO</th>\n",
              "      <td>42516</td>\n",
              "      <td>3970</td>\n",
              "      <td>TRILCE LOS OLIVOS</td>\n",
              "      <td>581</td>\n",
              "    </tr>\n",
              "    <tr>\n",
              "      <th>COLEGIO_DEPA</th>\n",
              "      <td>42290</td>\n",
              "      <td>38</td>\n",
              "      <td>LIMA</td>\n",
              "      <td>31968</td>\n",
              "    </tr>\n",
              "    <tr>\n",
              "      <th>COLEGIO_PROV</th>\n",
              "      <td>42288</td>\n",
              "      <td>230</td>\n",
              "      <td>LIMA</td>\n",
              "      <td>30441</td>\n",
              "    </tr>\n",
              "    <tr>\n",
              "      <th>COLEGIO_DIST</th>\n",
              "      <td>42288</td>\n",
              "      <td>818</td>\n",
              "      <td>SAN JUAN DE LURIGANCHO</td>\n",
              "      <td>3802</td>\n",
              "    </tr>\n",
              "    <tr>\n",
              "      <th>COLEGIO_PAIS</th>\n",
              "      <td>18942</td>\n",
              "      <td>8</td>\n",
              "      <td>PERÚ</td>\n",
              "      <td>18926</td>\n",
              "    </tr>\n",
              "    <tr>\n",
              "      <th>ESPECIALIDAD</th>\n",
              "      <td>42461</td>\n",
              "      <td>30</td>\n",
              "      <td>INGENIERÍA CIVIL</td>\n",
              "      <td>7608</td>\n",
              "    </tr>\n",
              "    <tr>\n",
              "      <th>DOMICILIO_DEPA</th>\n",
              "      <td>42516</td>\n",
              "      <td>30</td>\n",
              "      <td>LIMA</td>\n",
              "      <td>34086</td>\n",
              "    </tr>\n",
              "    <tr>\n",
              "      <th>DOMICILIO_PROV</th>\n",
              "      <td>42516</td>\n",
              "      <td>208</td>\n",
              "      <td>LIMA</td>\n",
              "      <td>32753</td>\n",
              "    </tr>\n",
              "    <tr>\n",
              "      <th>DOMICILIO_DIST</th>\n",
              "      <td>42516</td>\n",
              "      <td>769</td>\n",
              "      <td>LIMA</td>\n",
              "      <td>5245</td>\n",
              "    </tr>\n",
              "    <tr>\n",
              "      <th>NACIMIENTO_PAIS</th>\n",
              "      <td>42516</td>\n",
              "      <td>22</td>\n",
              "      <td>PERÚ</td>\n",
              "      <td>42285</td>\n",
              "    </tr>\n",
              "    <tr>\n",
              "      <th>NACIMIENTO_DEPA</th>\n",
              "      <td>42314</td>\n",
              "      <td>34</td>\n",
              "      <td>LIMA</td>\n",
              "      <td>28706</td>\n",
              "    </tr>\n",
              "    <tr>\n",
              "      <th>NACIMIENTO_PROV</th>\n",
              "      <td>42314</td>\n",
              "      <td>227</td>\n",
              "      <td>LIMA</td>\n",
              "      <td>27468</td>\n",
              "    </tr>\n",
              "    <tr>\n",
              "      <th>NACIMIENTO_DIST</th>\n",
              "      <td>42313</td>\n",
              "      <td>955</td>\n",
              "      <td>LIMA</td>\n",
              "      <td>9032</td>\n",
              "    </tr>\n",
              "    <tr>\n",
              "      <th>SEXO</th>\n",
              "      <td>42516</td>\n",
              "      <td>2</td>\n",
              "      <td>MASCULINO</td>\n",
              "      <td>32419</td>\n",
              "    </tr>\n",
              "    <tr>\n",
              "      <th>INGRESO</th>\n",
              "      <td>42516</td>\n",
              "      <td>2</td>\n",
              "      <td>NO</td>\n",
              "      <td>35535</td>\n",
              "    </tr>\n",
              "    <tr>\n",
              "      <th>MODALIDAD</th>\n",
              "      <td>42516</td>\n",
              "      <td>45</td>\n",
              "      <td>ORDINARIO</td>\n",
              "      <td>24054</td>\n",
              "    </tr>\n",
              "  </tbody>\n",
              "</table>\n",
              "</div>"
            ],
            "text/plain": [
              "                 count unique  \\\n",
              "IDHASH           42516  26177   \n",
              "COLEGIO          42516   3970   \n",
              "COLEGIO_DEPA     42290     38   \n",
              "COLEGIO_PROV     42288    230   \n",
              "COLEGIO_DIST     42288    818   \n",
              "COLEGIO_PAIS     18942      8   \n",
              "ESPECIALIDAD     42461     30   \n",
              "DOMICILIO_DEPA   42516     30   \n",
              "DOMICILIO_PROV   42516    208   \n",
              "DOMICILIO_DIST   42516    769   \n",
              "NACIMIENTO_PAIS  42516     22   \n",
              "NACIMIENTO_DEPA  42314     34   \n",
              "NACIMIENTO_PROV  42314    227   \n",
              "NACIMIENTO_DIST  42313    955   \n",
              "SEXO             42516      2   \n",
              "INGRESO          42516      2   \n",
              "MODALIDAD        42516     45   \n",
              "\n",
              "                                                               top   freq  \n",
              "IDHASH           5951EB18DB039C2A8DC6A5EFFD98D90DE313752DED1E65...      7  \n",
              "COLEGIO                                          TRILCE LOS OLIVOS    581  \n",
              "COLEGIO_DEPA                                                  LIMA  31968  \n",
              "COLEGIO_PROV                                                  LIMA  30441  \n",
              "COLEGIO_DIST                                SAN JUAN DE LURIGANCHO   3802  \n",
              "COLEGIO_PAIS                                                  PERÚ  18926  \n",
              "ESPECIALIDAD                                      INGENIERÍA CIVIL   7608  \n",
              "DOMICILIO_DEPA                                                LIMA  34086  \n",
              "DOMICILIO_PROV                                                LIMA  32753  \n",
              "DOMICILIO_DIST                                                LIMA   5245  \n",
              "NACIMIENTO_PAIS                                               PERÚ  42285  \n",
              "NACIMIENTO_DEPA                                               LIMA  28706  \n",
              "NACIMIENTO_PROV                                               LIMA  27468  \n",
              "NACIMIENTO_DIST                                               LIMA   9032  \n",
              "SEXO                                                     MASCULINO  32419  \n",
              "INGRESO                                                         NO  35535  \n",
              "MODALIDAD                                                ORDINARIO  24054  "
            ]
          },
          "execution_count": 5,
          "metadata": {},
          "output_type": "execute_result"
        }
      ],
      "source": [
        "# Valores no numericos\n",
        "df.describe(include='object').T"
      ]
    },
    {
      "cell_type": "markdown",
      "metadata": {
        "id": "Xqd0Nk4RU4F4"
      },
      "source": [
        "Que el total de valores unicos para el IDHASH sea poco mas de la mitad del total, muestra que una gran parte (38%) a postulado dos o más veces."
      ]
    },
    {
      "cell_type": "markdown",
      "metadata": {
        "id": "EpnqdDgaUjFz"
      },
      "source": [
        "# Procesamiento y limpieza de datos"
      ]
    },
    {
      "cell_type": "code",
      "execution_count": 6,
      "metadata": {
        "colab": {
          "base_uri": "https://localhost:8080/",
          "height": 773
        },
        "id": "t8r2INK2BCcB",
        "outputId": "250fe876-cc10-4057-b6ba-190593615fef"
      },
      "outputs": [
        {
          "data": {
            "text/plain": [
              "COLEGIO_PAIS           23574\n",
              "COLEGIO_PROV             228\n",
              "COLEGIO_DIST             228\n",
              "COLEGIO_DEPA             226\n",
              "NACIMIENTO_DIST          203\n",
              "NACIMIENTO_DEPA          202\n",
              "NACIMIENTO_PROV          202\n",
              "ESPECIALIDAD              55\n",
              "CALIF_FINAL               24\n",
              "COLEGIO                    0\n",
              "IDHASH                     0\n",
              "COLEGIO_ANIO_EGRESO        0\n",
              "ANIO_POSTULA               0\n",
              "CICLO_POSTULA              0\n",
              "ANIO_NACIMIENTO            0\n",
              "DOMICILIO_DIST             0\n",
              "DOMICILIO_PROV             0\n",
              "DOMICILIO_DEPA             0\n",
              "NACIMIENTO_PAIS            0\n",
              "SEXO                       0\n",
              "INGRESO                    0\n",
              "MODALIDAD                  0\n",
              "dtype: int64"
            ]
          },
          "execution_count": 6,
          "metadata": {},
          "output_type": "execute_result"
        }
      ],
      "source": [
        "# Valores nulos\n",
        "df.isnull().sum().sort_values(ascending=False)"
      ]
    },
    {
      "cell_type": "markdown",
      "metadata": {
        "id": "l7qvcU9rCnSF"
      },
      "source": [
        " COLEGIO_PAIS (país del colegio del postulante) es uno de los campos que contiene más valores nulos (50%+), tenemos que ver si podemos completar estos valores según otras columnas y evitar perder tantos datos."
      ]
    },
    {
      "cell_type": "code",
      "execution_count": 7,
      "metadata": {
        "colab": {
          "base_uri": "https://localhost:8080/",
          "height": 411
        },
        "id": "drgcFmluBVgw",
        "outputId": "1f9b5518-e74b-40b8-f6fb-2d3b78299b3c"
      },
      "outputs": [
        {
          "data": {
            "text/html": [
              "<div>\n",
              "<style scoped>\n",
              "    .dataframe tbody tr th:only-of-type {\n",
              "        vertical-align: middle;\n",
              "    }\n",
              "\n",
              "    .dataframe tbody tr th {\n",
              "        vertical-align: top;\n",
              "    }\n",
              "\n",
              "    .dataframe thead th {\n",
              "        text-align: right;\n",
              "    }\n",
              "</style>\n",
              "<table border=\"1\" class=\"dataframe\">\n",
              "  <thead>\n",
              "    <tr style=\"text-align: right;\">\n",
              "      <th></th>\n",
              "      <th>IDHASH</th>\n",
              "      <th>COLEGIO</th>\n",
              "      <th>COLEGIO_DEPA</th>\n",
              "      <th>COLEGIO_PROV</th>\n",
              "      <th>COLEGIO_DIST</th>\n",
              "      <th>COLEGIO_PAIS</th>\n",
              "      <th>COLEGIO_ANIO_EGRESO</th>\n",
              "      <th>ESPECIALIDAD</th>\n",
              "      <th>ANIO_POSTULA</th>\n",
              "      <th>CICLO_POSTULA</th>\n",
              "      <th>...</th>\n",
              "      <th>DOMICILIO_DIST</th>\n",
              "      <th>ANIO_NACIMIENTO</th>\n",
              "      <th>NACIMIENTO_PAIS</th>\n",
              "      <th>NACIMIENTO_DEPA</th>\n",
              "      <th>NACIMIENTO_PROV</th>\n",
              "      <th>NACIMIENTO_DIST</th>\n",
              "      <th>SEXO</th>\n",
              "      <th>CALIF_FINAL</th>\n",
              "      <th>INGRESO</th>\n",
              "      <th>MODALIDAD</th>\n",
              "    </tr>\n",
              "  </thead>\n",
              "  <tbody>\n",
              "    <tr>\n",
              "      <th>42108</th>\n",
              "      <td>D37B22FC56A5C2F512C5C2E6834E190F881A77BD05DE69...</td>\n",
              "      <td>20955-19</td>\n",
              "      <td>LIMA</td>\n",
              "      <td>HUAROCHIRI</td>\n",
              "      <td>SAN ANTONIO</td>\n",
              "      <td>NaN</td>\n",
              "      <td>2019</td>\n",
              "      <td>ARQUITECTURA</td>\n",
              "      <td>2023</td>\n",
              "      <td>2</td>\n",
              "      <td>...</td>\n",
              "      <td>LIMA</td>\n",
              "      <td>2002</td>\n",
              "      <td>PERÚ</td>\n",
              "      <td>LIMA</td>\n",
              "      <td>LIMA</td>\n",
              "      <td>LIMA</td>\n",
              "      <td>MASCULINO</td>\n",
              "      <td>9.667</td>\n",
              "      <td>NO</td>\n",
              "      <td>ORDINARIO</td>\n",
              "    </tr>\n",
              "    <tr>\n",
              "      <th>8924</th>\n",
              "      <td>A27D944E89EA1015C7B737DAE153466C02850FE8879BE6...</td>\n",
              "      <td>PAMER CAJAMARCA</td>\n",
              "      <td>CAJAMARCA</td>\n",
              "      <td>CAJAMARCA</td>\n",
              "      <td>CAJAMARCA</td>\n",
              "      <td>NaN</td>\n",
              "      <td>2022</td>\n",
              "      <td>INGENIERÍA DE PETRÓLEO Y GAS NATURAL</td>\n",
              "      <td>2024</td>\n",
              "      <td>1</td>\n",
              "      <td>...</td>\n",
              "      <td>CAJAMARCA</td>\n",
              "      <td>2006</td>\n",
              "      <td>PERÚ</td>\n",
              "      <td>CAJAMARCA</td>\n",
              "      <td>CAJAMARCA</td>\n",
              "      <td>CAJAMARCA</td>\n",
              "      <td>MASCULINO</td>\n",
              "      <td>3.120</td>\n",
              "      <td>NO</td>\n",
              "      <td>ORDINARIO</td>\n",
              "    </tr>\n",
              "    <tr>\n",
              "      <th>39172</th>\n",
              "      <td>A53357AA50F9212389176AC67A0AA1404E3750757EE776...</td>\n",
              "      <td>3041 ANDRES BELLO</td>\n",
              "      <td>LIMA</td>\n",
              "      <td>LIMA</td>\n",
              "      <td>SAN MARTIN DE PORRES</td>\n",
              "      <td>NaN</td>\n",
              "      <td>2022</td>\n",
              "      <td>INGENIERÍA MECATRÓNICA</td>\n",
              "      <td>2023</td>\n",
              "      <td>1</td>\n",
              "      <td>...</td>\n",
              "      <td>SAN MARTIN DE PORRES</td>\n",
              "      <td>2006</td>\n",
              "      <td>PERÚ</td>\n",
              "      <td>LIMA</td>\n",
              "      <td>LIMA</td>\n",
              "      <td>JESUS MARIA</td>\n",
              "      <td>MASCULINO</td>\n",
              "      <td>7.930</td>\n",
              "      <td>NO</td>\n",
              "      <td>INGRESO ESCOLAR NACIONAL</td>\n",
              "    </tr>\n",
              "    <tr>\n",
              "      <th>24751</th>\n",
              "      <td>BC57AA49E4A00AE3CBE5BE68FC00A478A57D5D1F85A73B...</td>\n",
              "      <td>TRILCE LOS OLIVOS</td>\n",
              "      <td>LIMA</td>\n",
              "      <td>LIMA</td>\n",
              "      <td>SAN MARTIN DE PORRES</td>\n",
              "      <td>NaN</td>\n",
              "      <td>2023</td>\n",
              "      <td>INGENIERÍA MECATRÓNICA</td>\n",
              "      <td>2024</td>\n",
              "      <td>1</td>\n",
              "      <td>...</td>\n",
              "      <td>SAN MARTIN DE PORRES</td>\n",
              "      <td>2007</td>\n",
              "      <td>PERÚ</td>\n",
              "      <td>LIMA</td>\n",
              "      <td>LIMA</td>\n",
              "      <td>COMAS</td>\n",
              "      <td>MASCULINO</td>\n",
              "      <td>10.726</td>\n",
              "      <td>NO</td>\n",
              "      <td>INGRESO ESCOLAR NACIONAL</td>\n",
              "    </tr>\n",
              "    <tr>\n",
              "      <th>20481</th>\n",
              "      <td>5E20C11240B436EC969D1BE272F9AFE8A5455EBD6D064E...</td>\n",
              "      <td>LOS NIÑOS DEL MILENIO</td>\n",
              "      <td>LIMA</td>\n",
              "      <td>HUAURA</td>\n",
              "      <td>VEGUETA</td>\n",
              "      <td>NaN</td>\n",
              "      <td>2014</td>\n",
              "      <td>FÍSICA</td>\n",
              "      <td>2023</td>\n",
              "      <td>1</td>\n",
              "      <td>...</td>\n",
              "      <td>SANTIAGO DE SURCO</td>\n",
              "      <td>1997</td>\n",
              "      <td>PERÚ</td>\n",
              "      <td>LIMA</td>\n",
              "      <td>HUAURA</td>\n",
              "      <td>VEGUETA</td>\n",
              "      <td>MASCULINO</td>\n",
              "      <td>6.618</td>\n",
              "      <td>NO</td>\n",
              "      <td>ORDINARIO</td>\n",
              "    </tr>\n",
              "  </tbody>\n",
              "</table>\n",
              "<p>5 rows × 22 columns</p>\n",
              "</div>"
            ],
            "text/plain": [
              "                                                  IDHASH  \\\n",
              "42108  D37B22FC56A5C2F512C5C2E6834E190F881A77BD05DE69...   \n",
              "8924   A27D944E89EA1015C7B737DAE153466C02850FE8879BE6...   \n",
              "39172  A53357AA50F9212389176AC67A0AA1404E3750757EE776...   \n",
              "24751  BC57AA49E4A00AE3CBE5BE68FC00A478A57D5D1F85A73B...   \n",
              "20481  5E20C11240B436EC969D1BE272F9AFE8A5455EBD6D064E...   \n",
              "\n",
              "                     COLEGIO COLEGIO_DEPA COLEGIO_PROV          COLEGIO_DIST  \\\n",
              "42108               20955-19         LIMA   HUAROCHIRI           SAN ANTONIO   \n",
              "8924         PAMER CAJAMARCA    CAJAMARCA    CAJAMARCA             CAJAMARCA   \n",
              "39172      3041 ANDRES BELLO         LIMA         LIMA  SAN MARTIN DE PORRES   \n",
              "24751      TRILCE LOS OLIVOS         LIMA         LIMA  SAN MARTIN DE PORRES   \n",
              "20481  LOS NIÑOS DEL MILENIO         LIMA       HUAURA               VEGUETA   \n",
              "\n",
              "      COLEGIO_PAIS  COLEGIO_ANIO_EGRESO                          ESPECIALIDAD  \\\n",
              "42108          NaN                 2019                          ARQUITECTURA   \n",
              "8924           NaN                 2022  INGENIERÍA DE PETRÓLEO Y GAS NATURAL   \n",
              "39172          NaN                 2022                INGENIERÍA MECATRÓNICA   \n",
              "24751          NaN                 2023                INGENIERÍA MECATRÓNICA   \n",
              "20481          NaN                 2014                                FÍSICA   \n",
              "\n",
              "       ANIO_POSTULA  CICLO_POSTULA  ...        DOMICILIO_DIST ANIO_NACIMIENTO  \\\n",
              "42108          2023              2  ...                  LIMA            2002   \n",
              "8924           2024              1  ...             CAJAMARCA            2006   \n",
              "39172          2023              1  ...  SAN MARTIN DE PORRES            2006   \n",
              "24751          2024              1  ...  SAN MARTIN DE PORRES            2007   \n",
              "20481          2023              1  ...     SANTIAGO DE SURCO            1997   \n",
              "\n",
              "      NACIMIENTO_PAIS  NACIMIENTO_DEPA NACIMIENTO_PROV NACIMIENTO_DIST  \\\n",
              "42108            PERÚ             LIMA            LIMA            LIMA   \n",
              "8924             PERÚ        CAJAMARCA       CAJAMARCA       CAJAMARCA   \n",
              "39172            PERÚ             LIMA            LIMA     JESUS MARIA   \n",
              "24751            PERÚ             LIMA            LIMA           COMAS   \n",
              "20481            PERÚ             LIMA          HUAURA         VEGUETA   \n",
              "\n",
              "            SEXO CALIF_FINAL INGRESO                 MODALIDAD  \n",
              "42108  MASCULINO       9.667      NO                 ORDINARIO  \n",
              "8924   MASCULINO       3.120      NO                 ORDINARIO  \n",
              "39172  MASCULINO       7.930      NO  INGRESO ESCOLAR NACIONAL  \n",
              "24751  MASCULINO      10.726      NO  INGRESO ESCOLAR NACIONAL  \n",
              "20481  MASCULINO       6.618      NO                 ORDINARIO  \n",
              "\n",
              "[5 rows x 22 columns]"
            ]
          },
          "execution_count": 7,
          "metadata": {},
          "output_type": "execute_result"
        }
      ],
      "source": [
        "# Mostrando algunos datos donde la columna COLEGIO_PAIS es nulo\n",
        "df[df['COLEGIO_PAIS'].isnull()].sample(5)"
      ]
    },
    {
      "cell_type": "markdown",
      "metadata": {
        "id": "uYWgQAMTFajU"
      },
      "source": [
        "Se puede inferir el País según el Departamento."
      ]
    },
    {
      "cell_type": "code",
      "execution_count": null,
      "metadata": {
        "colab": {
          "base_uri": "https://localhost:8080/",
          "height": 773
        },
        "id": "Odm9vZREEjq3",
        "outputId": "d3e4af32-314e-4816-e0b8-381173cc6cd4"
      },
      "outputs": [
        {
          "data": {
            "text/plain": [
              "IDHASH                   0\n",
              "COLEGIO                  0\n",
              "COLEGIO_DEPA           226\n",
              "COLEGIO_PROV           226\n",
              "COLEGIO_DIST           226\n",
              "COLEGIO_PAIS           226\n",
              "COLEGIO_ANIO_EGRESO      0\n",
              "ESPECIALIDAD             0\n",
              "ANIO_POSTULA             0\n",
              "CICLO_POSTULA            0\n",
              "DOMICILIO_DEPA           0\n",
              "DOMICILIO_PROV           0\n",
              "DOMICILIO_DIST           0\n",
              "ANIO_NACIMIENTO          0\n",
              "NACIMIENTO_PAIS          0\n",
              "NACIMIENTO_DEPA          1\n",
              "NACIMIENTO_PROV          1\n",
              "NACIMIENTO_DIST          1\n",
              "SEXO                     0\n",
              "CALIF_FINAL             24\n",
              "INGRESO                  0\n",
              "MODALIDAD                0\n",
              "dtype: int64"
            ]
          },
          "execution_count": 8,
          "metadata": {},
          "output_type": "execute_result"
        }
      ],
      "source": [
        "# En el caso de los colegios, veamos si cuando no presenta valores en su departamento\n",
        "# tampoco lo hace en sus valores relacionads (pais, distrito, provincia)\n",
        "df[df['COLEGIO_DEPA'].isnull()].isnull().sum()"
      ]
    },
    {
      "cell_type": "markdown",
      "metadata": {
        "id": "YEEE83F-GXaJ"
      },
      "source": [
        "Parece que si no hay valores en COLEGIO_DEPA (departamento del colegio), tampoco lo hay en su provincia, distrito y país."
      ]
    },
    {
      "cell_type": "code",
      "execution_count": 9,
      "metadata": {
        "colab": {
          "base_uri": "https://localhost:8080/"
        },
        "id": "r1TtuRQpDmEb",
        "outputId": "23da6af7-6630-4bf6-c06e-312b330e2bfc"
      },
      "outputs": [
        {
          "data": {
            "text/plain": [
              "array(['PERÚ', 'VENEZUELA', 'ESPAÑA', 'ECUADOR', 'ARGENTINA', 'CHILE',\n",
              "       'ITALIA', 'COLOMBIA'], dtype=object)"
            ]
          },
          "execution_count": 9,
          "metadata": {},
          "output_type": "execute_result"
        }
      ],
      "source": [
        "# Valores únicos de COLEGIO_PAIS\n",
        "l_paises = df['COLEGIO_PAIS'].dropna().unique()\n",
        "l_paises"
      ]
    },
    {
      "cell_type": "code",
      "execution_count": 10,
      "metadata": {
        "colab": {
          "base_uri": "https://localhost:8080/"
        },
        "id": "Ob6CF2E7KWN_",
        "outputId": "4e118478-c10c-4250-f723-d45bdd96b908"
      },
      "outputs": [
        {
          "data": {
            "text/plain": [
              "array(['AMAZONAS', 'ANCASH', 'APURIMAC', 'APURÍMAC', 'AREQUIPA',\n",
              "       'ARGENTINA', 'AYACUCHO', 'CAJAMARCA', 'CALLAO', 'CANADA', 'CHILE',\n",
              "       'COLOMBIA', 'CUSCO', 'ECUADOR', 'ESPAÑA', 'HUANCAVELICA',\n",
              "       'HUANUCO', 'HUÁNUCO', 'ICA', 'ITALIA', 'JUNIN', 'JUNÍN',\n",
              "       'LA LIBERTAD', 'LAMBAYEQUE', 'LIMA', 'LORETO', 'MADRE DE DIOS',\n",
              "       'MOQUEGUA', 'PASCO', 'PIURA', 'PUNO', 'SAN MARTIN', 'SAN MARTÍN',\n",
              "       'TACNA', 'TUMBES', 'UCAYALI', 'VENEZUELA', 'ÁNCASH'], dtype=object)"
            ]
          },
          "execution_count": 10,
          "metadata": {},
          "output_type": "execute_result"
        }
      ],
      "source": [
        "# Valores únicos de COLEGIO_DEPA\n",
        "l_depas = df['COLEGIO_DEPA'].dropna().unique()\n",
        "l_depas.sort()\n",
        "l_depas"
      ]
    },
    {
      "cell_type": "markdown",
      "metadata": {
        "id": "HKwrvrSEK689"
      },
      "source": [
        "Algunos departamentos se repiten debido a que uno lleva tilde y el otro no (ÁNCASH y ANCASH), los casos son: 'ANCASH', 'HUANUCO', 'JUNIN', 'APURIMAC' y 'SAN MARTIN'.  \n",
        "Este tipo de error se repite en varias columnas que tiene que ver con la ubicación (colegio, domicilio y nacimiento), entonces para abordar este problema, eliminaremos las tildes de todos estos campos."
      ]
    },
    {
      "cell_type": "code",
      "execution_count": 11,
      "metadata": {
        "id": "zjBf0mdizeI4"
      },
      "outputs": [],
      "source": [
        "# Eliminado tildes\n",
        "columnas_tildes = ['COLEGIO_DEPA', 'COLEGIO_PROV', 'COLEGIO_DIST',\n",
        "                  'DOMICILIO_DEPA', 'DOMICILIO_PROV', 'DOMICILIO_DIST',\n",
        "                  'NACIMIENTO_DEPA', 'NACIMIENTO_PROV', 'NACIMIENTO_DIST']\n",
        "for col in columnas_tildes:\n",
        "  df[col] = df[col].str.normalize('NFKD').str.encode('ascii', errors='ignore').str.decode('utf-8')"
      ]
    },
    {
      "cell_type": "markdown",
      "metadata": {
        "id": "W5ZGODndMcDY"
      },
      "source": [
        "También se observa que tenemos a CANADA, probablemente del pais CANADA, que presenta varios valores nulos, pero al ser una sola muestra no se tomará en cuenta (se eliminará al limpiar los valores nulos)"
      ]
    },
    {
      "cell_type": "code",
      "execution_count": 12,
      "metadata": {
        "colab": {
          "base_uri": "https://localhost:8080/",
          "height": 182
        },
        "id": "rNNouPsmMg4o",
        "outputId": "b2da79f6-46c7-4213-c25c-19f89d92f7c1"
      },
      "outputs": [
        {
          "data": {
            "text/html": [
              "<div>\n",
              "<style scoped>\n",
              "    .dataframe tbody tr th:only-of-type {\n",
              "        vertical-align: middle;\n",
              "    }\n",
              "\n",
              "    .dataframe tbody tr th {\n",
              "        vertical-align: top;\n",
              "    }\n",
              "\n",
              "    .dataframe thead th {\n",
              "        text-align: right;\n",
              "    }\n",
              "</style>\n",
              "<table border=\"1\" class=\"dataframe\">\n",
              "  <thead>\n",
              "    <tr style=\"text-align: right;\">\n",
              "      <th></th>\n",
              "      <th>IDHASH</th>\n",
              "      <th>COLEGIO</th>\n",
              "      <th>COLEGIO_DEPA</th>\n",
              "      <th>COLEGIO_PROV</th>\n",
              "      <th>COLEGIO_DIST</th>\n",
              "      <th>COLEGIO_PAIS</th>\n",
              "      <th>COLEGIO_ANIO_EGRESO</th>\n",
              "      <th>ESPECIALIDAD</th>\n",
              "      <th>ANIO_POSTULA</th>\n",
              "      <th>CICLO_POSTULA</th>\n",
              "      <th>...</th>\n",
              "      <th>DOMICILIO_DIST</th>\n",
              "      <th>ANIO_NACIMIENTO</th>\n",
              "      <th>NACIMIENTO_PAIS</th>\n",
              "      <th>NACIMIENTO_DEPA</th>\n",
              "      <th>NACIMIENTO_PROV</th>\n",
              "      <th>NACIMIENTO_DIST</th>\n",
              "      <th>SEXO</th>\n",
              "      <th>CALIF_FINAL</th>\n",
              "      <th>INGRESO</th>\n",
              "      <th>MODALIDAD</th>\n",
              "    </tr>\n",
              "  </thead>\n",
              "  <tbody>\n",
              "    <tr>\n",
              "      <th>4027</th>\n",
              "      <td>45C6AA44C712F58DF8B84F3D401A0634C2A6050BF1A36D...</td>\n",
              "      <td>BISHOP O'BYRNE HIGH SCHOOL</td>\n",
              "      <td>CANADA</td>\n",
              "      <td>CALGARY</td>\n",
              "      <td>CALGARY</td>\n",
              "      <td>NaN</td>\n",
              "      <td>2022</td>\n",
              "      <td>INGENIERÍA CIVIL</td>\n",
              "      <td>2023</td>\n",
              "      <td>2</td>\n",
              "      <td>...</td>\n",
              "      <td>LIMA</td>\n",
              "      <td>2004</td>\n",
              "      <td>EE.UU.</td>\n",
              "      <td>NaN</td>\n",
              "      <td>NaN</td>\n",
              "      <td>NaN</td>\n",
              "      <td>MASCULINO</td>\n",
              "      <td>4.759</td>\n",
              "      <td>NO</td>\n",
              "      <td>ORDINARIO</td>\n",
              "    </tr>\n",
              "  </tbody>\n",
              "</table>\n",
              "<p>1 rows × 22 columns</p>\n",
              "</div>"
            ],
            "text/plain": [
              "                                                 IDHASH  \\\n",
              "4027  45C6AA44C712F58DF8B84F3D401A0634C2A6050BF1A36D...   \n",
              "\n",
              "                         COLEGIO COLEGIO_DEPA COLEGIO_PROV COLEGIO_DIST  \\\n",
              "4027  BISHOP O'BYRNE HIGH SCHOOL       CANADA      CALGARY      CALGARY   \n",
              "\n",
              "     COLEGIO_PAIS  COLEGIO_ANIO_EGRESO      ESPECIALIDAD  ANIO_POSTULA  \\\n",
              "4027          NaN                 2022  INGENIERÍA CIVIL          2023   \n",
              "\n",
              "      CICLO_POSTULA  ... DOMICILIO_DIST ANIO_NACIMIENTO NACIMIENTO_PAIS  \\\n",
              "4027              2  ...           LIMA            2004          EE.UU.   \n",
              "\n",
              "      NACIMIENTO_DEPA NACIMIENTO_PROV NACIMIENTO_DIST       SEXO CALIF_FINAL  \\\n",
              "4027              NaN             NaN             NaN  MASCULINO       4.759   \n",
              "\n",
              "     INGRESO  MODALIDAD  \n",
              "4027      NO  ORDINARIO  \n",
              "\n",
              "[1 rows x 22 columns]"
            ]
          },
          "execution_count": 12,
          "metadata": {},
          "output_type": "execute_result"
        }
      ],
      "source": [
        "# CANADA\n",
        "df[df['COLEGIO_DEPA'] == 'CANADA']"
      ]
    },
    {
      "cell_type": "markdown",
      "metadata": {
        "id": "GB5Sl5hBDiON"
      },
      "source": [
        "En el caso del Callao, existen dos nombres para la provincia que se refieren a lo mismo: PROV CONST DEL CALLAO y PROV. CONST. DEL CALLAO, lo estandarizaremos al primero."
      ]
    },
    {
      "cell_type": "code",
      "execution_count": 13,
      "metadata": {
        "id": "GoeD3aSpDXFn"
      },
      "outputs": [],
      "source": [
        "cols_depa = ['COLEGIO_DEPA', 'DOMICILIO_DEPA', 'NACIMIENTO_DEPA']\n",
        "cols_prov = ['COLEGIO_PROV', 'DOMICILIO_PROV', 'NACIMIENTO_PROV']\n",
        "for dep, prov in zip(cols_depa, cols_prov):\n",
        "  df.loc[df[dep] == 'CALLAO', prov] = 'PROV CONST DEL CALLAO'"
      ]
    },
    {
      "cell_type": "code",
      "execution_count": 14,
      "metadata": {
        "colab": {
          "base_uri": "https://localhost:8080/"
        },
        "id": "FRf9AayCD0u5",
        "outputId": "fa7fcf86-1e3c-4ad7-d295-3ea0dedd3c7e"
      },
      "outputs": [
        {
          "data": {
            "text/plain": [
              "{'PERÚ': array(['LIMA', 'ANCASH', 'AYACUCHO', 'ICA', 'CAJAMARCA', 'JUNIN',\n",
              "        'HUANUCO', 'CALLAO', 'HUANCAVELICA', 'LAMBAYEQUE', 'PIURA',\n",
              "        'AMAZONAS', 'APURIMAC', 'MADRE DE DIOS', 'SAN MARTIN', 'PUNO',\n",
              "        'UCAYALI', 'LORETO', 'PASCO', 'LA LIBERTAD', 'TACNA', 'TUMBES',\n",
              "        'AREQUIPA', 'CUSCO', 'MOQUEGUA'], dtype=object),\n",
              " 'VENEZUELA': array(['VENEZUELA'], dtype=object),\n",
              " 'ESPAÑA': array(['ESPANA'], dtype=object),\n",
              " 'ECUADOR': array(['ECUADOR'], dtype=object),\n",
              " 'ARGENTINA': array(['ARGENTINA'], dtype=object),\n",
              " 'CHILE': array(['CHILE'], dtype=object),\n",
              " 'ITALIA': array(['ITALIA'], dtype=object),\n",
              " 'COLOMBIA': array(['COLOMBIA'], dtype=object)}"
            ]
          },
          "execution_count": 14,
          "metadata": {},
          "output_type": "execute_result"
        }
      ],
      "source": [
        "# Guardamos los departamentos en un diccionario según el pais\n",
        "d_paises = {}\n",
        "for pais in l_paises:\n",
        "  d_paises[pais] = df[df['COLEGIO_PAIS'] == pais]['COLEGIO_DEPA'].dropna().unique()\n",
        "d_paises"
      ]
    },
    {
      "cell_type": "markdown",
      "metadata": {
        "id": "T5d-tccRHfVX"
      },
      "source": [
        "Solo en el caso de que los colegios sean de Perú, se especifica su departamento, etc.; para los otros países solo se considera el mismo país para esos valores."
      ]
    },
    {
      "cell_type": "code",
      "execution_count": 15,
      "metadata": {
        "colab": {
          "base_uri": "https://localhost:8080/"
        },
        "id": "23CgaCxLHe0m",
        "outputId": "d3b13cc1-849b-4216-de69-a4d40f188518"
      },
      "outputs": [
        {
          "data": {
            "text/plain": [
              "25"
            ]
          },
          "execution_count": 15,
          "metadata": {},
          "output_type": "execute_result"
        }
      ],
      "source": [
        "len(d_paises['PERÚ']) # Tenemos los 24 departamentos + callao"
      ]
    },
    {
      "cell_type": "code",
      "execution_count": 16,
      "metadata": {
        "id": "KRUcwAlFHaqe"
      },
      "outputs": [],
      "source": [
        "# Rellenaremos los valores nulos de COLEGIO_PAIS segun los datos de COLEGIO_DEPA\n",
        "for pais in d_paises.keys():\n",
        "  df.loc[(df['COLEGIO_PAIS'].isnull()) & (df['COLEGIO_DEPA'].isin(d_paises[pais])), 'COLEGIO_PAIS'] = pais"
      ]
    },
    {
      "cell_type": "code",
      "execution_count": 17,
      "metadata": {
        "colab": {
          "base_uri": "https://localhost:8080/",
          "height": 773
        },
        "id": "qIPg_4OoJN9B",
        "outputId": "66c29407-fca7-4f31-dd5f-6e99ef886cab"
      },
      "outputs": [
        {
          "data": {
            "text/plain": [
              "COLEGIO_DIST           228\n",
              "COLEGIO_PROV           228\n",
              "COLEGIO_PAIS           227\n",
              "COLEGIO_DEPA           226\n",
              "NACIMIENTO_DIST        203\n",
              "NACIMIENTO_DEPA        202\n",
              "NACIMIENTO_PROV        202\n",
              "ESPECIALIDAD            55\n",
              "CALIF_FINAL             24\n",
              "COLEGIO                  0\n",
              "IDHASH                   0\n",
              "COLEGIO_ANIO_EGRESO      0\n",
              "ANIO_POSTULA             0\n",
              "CICLO_POSTULA            0\n",
              "ANIO_NACIMIENTO          0\n",
              "DOMICILIO_DIST           0\n",
              "DOMICILIO_PROV           0\n",
              "DOMICILIO_DEPA           0\n",
              "NACIMIENTO_PAIS          0\n",
              "SEXO                     0\n",
              "INGRESO                  0\n",
              "MODALIDAD                0\n",
              "dtype: int64"
            ]
          },
          "execution_count": 17,
          "metadata": {},
          "output_type": "execute_result"
        }
      ],
      "source": [
        "# Visualizamos los valores nulos restantes\n",
        "df.isnull().sum().sort_values(ascending=False)"
      ]
    },
    {
      "cell_type": "markdown",
      "metadata": {
        "id": "11NpcEslPX_-"
      },
      "source": [
        "Para los demás casos de colegios, es difícil porder encontrar los valores nulos; de la misma forma para el lugar de nacimiento, donde se tiene el pais pero no el departamente, provincia y distrito. Por eso se considera eliminar las filas con valores nulos."
      ]
    },
    {
      "cell_type": "code",
      "execution_count": 20,
      "metadata": {
        "colab": {
          "base_uri": "https://localhost:8080/"
        },
        "id": "qlPh3vF3QGHZ",
        "outputId": "355a25b2-2c0f-4894-88df-184262f50b79"
      },
      "outputs": [
        {
          "name": "stdout",
          "output_type": "stream",
          "text": [
            "Dimensiona actual: (42516, 22) \n",
            "Dimension sin valores nulos: (42033, 22)\n"
          ]
        }
      ],
      "source": [
        "print(f'Dimensiona actual: {df.shape} \\nDimension sin valores nulos: {df.dropna().shape}')"
      ]
    },
    {
      "cell_type": "markdown",
      "metadata": {
        "id": "G3_DM3y8Pt6X"
      },
      "source": [
        "Eliminando las filas que presentan valores nulos, se perdería un total de 483 fila de datos, lo que seria menos del 1.2% de la data. Procedemos a eliminar estas filas."
      ]
    },
    {
      "cell_type": "code",
      "execution_count": 21,
      "metadata": {
        "id": "rb5-dgVzQvAr"
      },
      "outputs": [],
      "source": [
        "df.dropna(inplace=True)"
      ]
    },
    {
      "cell_type": "markdown",
      "metadata": {
        "id": "NwO5eYB-UAYp"
      },
      "source": [
        "Exportamos los datos preprocesados."
      ]
    },
    {
      "cell_type": "code",
      "execution_count": 22,
      "metadata": {
        "id": "DSw5tgxNTtb6"
      },
      "outputs": [],
      "source": [
        "df.to_csv('datasets/admission-data-clean.csv', index=False)"
      ]
    }
  ],
  "metadata": {
    "colab": {
      "provenance": []
    },
    "kernelspec": {
      "display_name": "venv",
      "language": "python",
      "name": "python3"
    },
    "language_info": {
      "codemirror_mode": {
        "name": "ipython",
        "version": 3
      },
      "file_extension": ".py",
      "mimetype": "text/x-python",
      "name": "python",
      "nbconvert_exporter": "python",
      "pygments_lexer": "ipython3",
      "version": "3.11.9"
    }
  },
  "nbformat": 4,
  "nbformat_minor": 0
}
